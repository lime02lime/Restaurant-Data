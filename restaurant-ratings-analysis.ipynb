{
 "cells": [
  {
   "cell_type": "markdown",
   "id": "490118a3",
   "metadata": {
    "papermill": {
     "duration": 0.019688,
     "end_time": "2023-02-15T14:23:49.726140",
     "exception": false,
     "start_time": "2023-02-15T14:23:49.706452",
     "status": "completed"
    },
    "tags": []
   },
   "source": [
    "# Restaurant Ratings Analysis\n",
    "\n",
    "Hello!\n",
    "\n",
    "In this notebook I analyze some data relating to restaurants in Bangalore. It is quite a large dataset with more than 40,000 restaurants. Each one has a quite a few datapoints, including ratings, number of votes, location, cuisine, etc.\n",
    "\n",
    "We will look at this dataset to see what are the main factors influencing a restaurant's score. There may be a positive correlation between variables, but a strong negative correlation is also greatly informative.\n",
    "\n",
    "As our dataset is large, we have many tools available to us. We will walk through a few of them in this notebook."
   ]
  },
  {
   "cell_type": "markdown",
   "id": "82a27583",
   "metadata": {
    "papermill": {
     "duration": 0.017626,
     "end_time": "2023-02-15T14:23:49.761684",
     "exception": false,
     "start_time": "2023-02-15T14:23:49.744058",
     "status": "completed"
    },
    "tags": []
   },
   "source": [
    "**Prep Work**"
   ]
  },
  {
   "cell_type": "code",
   "execution_count": 1,
   "id": "cbb82218",
   "metadata": {
    "_cell_guid": "b1076dfc-b9ad-4769-8c92-a6c4dae69d19",
    "_uuid": "8f2839f25d086af736a60e9eeb907d3b93b6e0e5",
    "execution": {
     "iopub.execute_input": "2023-02-15T14:23:49.800782Z",
     "iopub.status.busy": "2023-02-15T14:23:49.800361Z",
     "iopub.status.idle": "2023-02-15T14:23:49.820206Z",
     "shell.execute_reply": "2023-02-15T14:23:49.819528Z"
    },
    "papermill": {
     "duration": 0.042622,
     "end_time": "2023-02-15T14:23:49.822786",
     "exception": false,
     "start_time": "2023-02-15T14:23:49.780164",
     "status": "completed"
    },
    "tags": []
   },
   "outputs": [
    {
     "name": "stdout",
     "output_type": "stream",
     "text": [
      "/kaggle/input/zomato-bangalore-restaurants/zomato.csv\n"
     ]
    }
   ],
   "source": [
    "# Input data files are available in the read-only \"../input/\" directory\n",
    "# For example, running this (by clicking run or pressing Shift+Enter) will list all files under the input directory\n",
    "\n",
    "import pandas as pd\n",
    "import numpy as np\n",
    "\n",
    "import os\n",
    "for dirname, _, filenames in os.walk('/kaggle/input'):\n",
    "    for filename in filenames:\n",
    "        print(os.path.join(dirname, filename))\n",
    "\n",
    "# You can write up to 20GB to the current directory (/kaggle/working/) that gets preserved as output when you create a version using \"Save & Run All\" \n",
    "# You can also write temporary files to /kaggle/temp/, but they won't be saved outside of the current session"
   ]
  },
  {
   "cell_type": "markdown",
   "id": "6a51c6f3",
   "metadata": {
    "papermill": {
     "duration": 0.018268,
     "end_time": "2023-02-15T14:23:49.859624",
     "exception": false,
     "start_time": "2023-02-15T14:23:49.841356",
     "status": "completed"
    },
    "tags": []
   },
   "source": [
    "Importing the data for Restaurants in Bangalore:"
   ]
  },
  {
   "cell_type": "code",
   "execution_count": 2,
   "id": "05ee4441",
   "metadata": {
    "execution": {
     "iopub.execute_input": "2023-02-15T14:23:49.898818Z",
     "iopub.status.busy": "2023-02-15T14:23:49.898274Z",
     "iopub.status.idle": "2023-02-15T14:24:02.409268Z",
     "shell.execute_reply": "2023-02-15T14:24:02.408018Z"
    },
    "papermill": {
     "duration": 12.532812,
     "end_time": "2023-02-15T14:24:02.411459",
     "exception": false,
     "start_time": "2023-02-15T14:23:49.878647",
     "status": "completed"
    },
    "tags": []
   },
   "outputs": [],
   "source": [
    "os.listdir('/kaggle/input')\n",
    "df = pd.read_csv('/kaggle/input/zomato-bangalore-restaurants/zomato.csv')"
   ]
  },
  {
   "cell_type": "markdown",
   "id": "7d38d31c",
   "metadata": {
    "papermill": {
     "duration": 0.018567,
     "end_time": "2023-02-15T14:24:02.448033",
     "exception": false,
     "start_time": "2023-02-15T14:24:02.429466",
     "status": "completed"
    },
    "tags": []
   },
   "source": [
    "**Data Cleaning and Preparation**\n",
    "\n",
    "Removing all NaN values, and resetting the index values."
   ]
  },
  {
   "cell_type": "code",
   "execution_count": 3,
   "id": "091417e5",
   "metadata": {
    "execution": {
     "iopub.execute_input": "2023-02-15T14:24:02.485834Z",
     "iopub.status.busy": "2023-02-15T14:24:02.485031Z",
     "iopub.status.idle": "2023-02-15T14:24:02.585973Z",
     "shell.execute_reply": "2023-02-15T14:24:02.585141Z"
    },
    "papermill": {
     "duration": 0.12191,
     "end_time": "2023-02-15T14:24:02.587985",
     "exception": false,
     "start_time": "2023-02-15T14:24:02.466075",
     "status": "completed"
    },
    "tags": []
   },
   "outputs": [
    {
     "data": {
      "text/html": [
       "<div>\n",
       "<style scoped>\n",
       "    .dataframe tbody tr th:only-of-type {\n",
       "        vertical-align: middle;\n",
       "    }\n",
       "\n",
       "    .dataframe tbody tr th {\n",
       "        vertical-align: top;\n",
       "    }\n",
       "\n",
       "    .dataframe thead th {\n",
       "        text-align: right;\n",
       "    }\n",
       "</style>\n",
       "<table border=\"1\" class=\"dataframe\">\n",
       "  <thead>\n",
       "    <tr style=\"text-align: right;\">\n",
       "      <th></th>\n",
       "      <th>url</th>\n",
       "      <th>address</th>\n",
       "      <th>name</th>\n",
       "      <th>online_order</th>\n",
       "      <th>book_table</th>\n",
       "      <th>rate</th>\n",
       "      <th>votes</th>\n",
       "      <th>phone</th>\n",
       "      <th>location</th>\n",
       "      <th>rest_type</th>\n",
       "      <th>dish_liked</th>\n",
       "      <th>cuisines</th>\n",
       "      <th>approx_cost(for two people)</th>\n",
       "      <th>reviews_list</th>\n",
       "      <th>menu_item</th>\n",
       "      <th>listed_in(type)</th>\n",
       "      <th>listed_in(city)</th>\n",
       "    </tr>\n",
       "  </thead>\n",
       "  <tbody>\n",
       "    <tr>\n",
       "      <th>0</th>\n",
       "      <td>https://www.zomato.com/bangalore/jalsa-banasha...</td>\n",
       "      <td>942, 21st Main Road, 2nd Stage, Banashankari, ...</td>\n",
       "      <td>Jalsa</td>\n",
       "      <td>Yes</td>\n",
       "      <td>Yes</td>\n",
       "      <td>4.1/5</td>\n",
       "      <td>775</td>\n",
       "      <td>080 42297555\\r\\n+91 9743772233</td>\n",
       "      <td>Banashankari</td>\n",
       "      <td>Casual Dining</td>\n",
       "      <td>Pasta, Lunch Buffet, Masala Papad, Paneer Laja...</td>\n",
       "      <td>North Indian, Mughlai, Chinese</td>\n",
       "      <td>800</td>\n",
       "      <td>[('Rated 4.0', 'RATED\\n  A beautiful place to ...</td>\n",
       "      <td>[]</td>\n",
       "      <td>Buffet</td>\n",
       "      <td>Banashankari</td>\n",
       "    </tr>\n",
       "    <tr>\n",
       "      <th>1</th>\n",
       "      <td>https://www.zomato.com/bangalore/spice-elephan...</td>\n",
       "      <td>2nd Floor, 80 Feet Road, Near Big Bazaar, 6th ...</td>\n",
       "      <td>Spice Elephant</td>\n",
       "      <td>Yes</td>\n",
       "      <td>No</td>\n",
       "      <td>4.1/5</td>\n",
       "      <td>787</td>\n",
       "      <td>080 41714161</td>\n",
       "      <td>Banashankari</td>\n",
       "      <td>Casual Dining</td>\n",
       "      <td>Momos, Lunch Buffet, Chocolate Nirvana, Thai G...</td>\n",
       "      <td>Chinese, North Indian, Thai</td>\n",
       "      <td>800</td>\n",
       "      <td>[('Rated 4.0', 'RATED\\n  Had been here for din...</td>\n",
       "      <td>[]</td>\n",
       "      <td>Buffet</td>\n",
       "      <td>Banashankari</td>\n",
       "    </tr>\n",
       "    <tr>\n",
       "      <th>2</th>\n",
       "      <td>https://www.zomato.com/SanchurroBangalore?cont...</td>\n",
       "      <td>1112, Next to KIMS Medical College, 17th Cross...</td>\n",
       "      <td>San Churro Cafe</td>\n",
       "      <td>Yes</td>\n",
       "      <td>No</td>\n",
       "      <td>3.8/5</td>\n",
       "      <td>918</td>\n",
       "      <td>+91 9663487993</td>\n",
       "      <td>Banashankari</td>\n",
       "      <td>Cafe, Casual Dining</td>\n",
       "      <td>Churros, Cannelloni, Minestrone Soup, Hot Choc...</td>\n",
       "      <td>Cafe, Mexican, Italian</td>\n",
       "      <td>800</td>\n",
       "      <td>[('Rated 3.0', \"RATED\\n  Ambience is not that ...</td>\n",
       "      <td>[]</td>\n",
       "      <td>Buffet</td>\n",
       "      <td>Banashankari</td>\n",
       "    </tr>\n",
       "    <tr>\n",
       "      <th>3</th>\n",
       "      <td>https://www.zomato.com/bangalore/addhuri-udupi...</td>\n",
       "      <td>1st Floor, Annakuteera, 3rd Stage, Banashankar...</td>\n",
       "      <td>Addhuri Udupi Bhojana</td>\n",
       "      <td>No</td>\n",
       "      <td>No</td>\n",
       "      <td>3.7/5</td>\n",
       "      <td>88</td>\n",
       "      <td>+91 9620009302</td>\n",
       "      <td>Banashankari</td>\n",
       "      <td>Quick Bites</td>\n",
       "      <td>Masala Dosa</td>\n",
       "      <td>South Indian, North Indian</td>\n",
       "      <td>300</td>\n",
       "      <td>[('Rated 4.0', \"RATED\\n  Great food and proper...</td>\n",
       "      <td>[]</td>\n",
       "      <td>Buffet</td>\n",
       "      <td>Banashankari</td>\n",
       "    </tr>\n",
       "    <tr>\n",
       "      <th>4</th>\n",
       "      <td>https://www.zomato.com/bangalore/grand-village...</td>\n",
       "      <td>10, 3rd Floor, Lakshmi Associates, Gandhi Baza...</td>\n",
       "      <td>Grand Village</td>\n",
       "      <td>No</td>\n",
       "      <td>No</td>\n",
       "      <td>3.8/5</td>\n",
       "      <td>166</td>\n",
       "      <td>+91 8026612447\\r\\n+91 9901210005</td>\n",
       "      <td>Basavanagudi</td>\n",
       "      <td>Casual Dining</td>\n",
       "      <td>Panipuri, Gol Gappe</td>\n",
       "      <td>North Indian, Rajasthani</td>\n",
       "      <td>600</td>\n",
       "      <td>[('Rated 4.0', 'RATED\\n  Very good restaurant ...</td>\n",
       "      <td>[]</td>\n",
       "      <td>Buffet</td>\n",
       "      <td>Banashankari</td>\n",
       "    </tr>\n",
       "  </tbody>\n",
       "</table>\n",
       "</div>"
      ],
      "text/plain": [
       "                                                 url  \\\n",
       "0  https://www.zomato.com/bangalore/jalsa-banasha...   \n",
       "1  https://www.zomato.com/bangalore/spice-elephan...   \n",
       "2  https://www.zomato.com/SanchurroBangalore?cont...   \n",
       "3  https://www.zomato.com/bangalore/addhuri-udupi...   \n",
       "4  https://www.zomato.com/bangalore/grand-village...   \n",
       "\n",
       "                                             address                   name  \\\n",
       "0  942, 21st Main Road, 2nd Stage, Banashankari, ...                  Jalsa   \n",
       "1  2nd Floor, 80 Feet Road, Near Big Bazaar, 6th ...         Spice Elephant   \n",
       "2  1112, Next to KIMS Medical College, 17th Cross...        San Churro Cafe   \n",
       "3  1st Floor, Annakuteera, 3rd Stage, Banashankar...  Addhuri Udupi Bhojana   \n",
       "4  10, 3rd Floor, Lakshmi Associates, Gandhi Baza...          Grand Village   \n",
       "\n",
       "  online_order book_table   rate  votes                             phone  \\\n",
       "0          Yes        Yes  4.1/5    775    080 42297555\\r\\n+91 9743772233   \n",
       "1          Yes         No  4.1/5    787                      080 41714161   \n",
       "2          Yes         No  3.8/5    918                    +91 9663487993   \n",
       "3           No         No  3.7/5     88                    +91 9620009302   \n",
       "4           No         No  3.8/5    166  +91 8026612447\\r\\n+91 9901210005   \n",
       "\n",
       "       location            rest_type  \\\n",
       "0  Banashankari        Casual Dining   \n",
       "1  Banashankari        Casual Dining   \n",
       "2  Banashankari  Cafe, Casual Dining   \n",
       "3  Banashankari          Quick Bites   \n",
       "4  Basavanagudi        Casual Dining   \n",
       "\n",
       "                                          dish_liked  \\\n",
       "0  Pasta, Lunch Buffet, Masala Papad, Paneer Laja...   \n",
       "1  Momos, Lunch Buffet, Chocolate Nirvana, Thai G...   \n",
       "2  Churros, Cannelloni, Minestrone Soup, Hot Choc...   \n",
       "3                                        Masala Dosa   \n",
       "4                                Panipuri, Gol Gappe   \n",
       "\n",
       "                         cuisines approx_cost(for two people)  \\\n",
       "0  North Indian, Mughlai, Chinese                         800   \n",
       "1     Chinese, North Indian, Thai                         800   \n",
       "2          Cafe, Mexican, Italian                         800   \n",
       "3      South Indian, North Indian                         300   \n",
       "4        North Indian, Rajasthani                         600   \n",
       "\n",
       "                                        reviews_list menu_item  \\\n",
       "0  [('Rated 4.0', 'RATED\\n  A beautiful place to ...        []   \n",
       "1  [('Rated 4.0', 'RATED\\n  Had been here for din...        []   \n",
       "2  [('Rated 3.0', \"RATED\\n  Ambience is not that ...        []   \n",
       "3  [('Rated 4.0', \"RATED\\n  Great food and proper...        []   \n",
       "4  [('Rated 4.0', 'RATED\\n  Very good restaurant ...        []   \n",
       "\n",
       "  listed_in(type) listed_in(city)  \n",
       "0          Buffet    Banashankari  \n",
       "1          Buffet    Banashankari  \n",
       "2          Buffet    Banashankari  \n",
       "3          Buffet    Banashankari  \n",
       "4          Buffet    Banashankari  "
      ]
     },
     "execution_count": 3,
     "metadata": {},
     "output_type": "execute_result"
    }
   ],
   "source": [
    "#dropping NaNs\n",
    "df = df.dropna(axis=0).reset_index(drop=True)\n",
    "df.head()"
   ]
  },
  {
   "cell_type": "markdown",
   "id": "ce336a75",
   "metadata": {
    "papermill": {
     "duration": 0.017374,
     "end_time": "2023-02-15T14:24:02.623412",
     "exception": false,
     "start_time": "2023-02-15T14:24:02.606038",
     "status": "completed"
    },
    "tags": []
   },
   "source": [
    "Now we want to clean up the ratings, so first we remove all the ones with non-desired inputs like \"NEW\" or \"-\" by keeping all the ones containing a \"/\"."
   ]
  },
  {
   "cell_type": "code",
   "execution_count": 4,
   "id": "714a66a6",
   "metadata": {
    "execution": {
     "iopub.execute_input": "2023-02-15T14:24:02.661380Z",
     "iopub.status.busy": "2023-02-15T14:24:02.661037Z",
     "iopub.status.idle": "2023-02-15T14:24:02.704575Z",
     "shell.execute_reply": "2023-02-15T14:24:02.703097Z"
    },
    "papermill": {
     "duration": 0.065292,
     "end_time": "2023-02-15T14:24:02.706834",
     "exception": false,
     "start_time": "2023-02-15T14:24:02.641542",
     "status": "completed"
    },
    "tags": []
   },
   "outputs": [
    {
     "data": {
      "text/html": [
       "<div>\n",
       "<style scoped>\n",
       "    .dataframe tbody tr th:only-of-type {\n",
       "        vertical-align: middle;\n",
       "    }\n",
       "\n",
       "    .dataframe tbody tr th {\n",
       "        vertical-align: top;\n",
       "    }\n",
       "\n",
       "    .dataframe thead th {\n",
       "        text-align: right;\n",
       "    }\n",
       "</style>\n",
       "<table border=\"1\" class=\"dataframe\">\n",
       "  <thead>\n",
       "    <tr style=\"text-align: right;\">\n",
       "      <th></th>\n",
       "      <th>url</th>\n",
       "      <th>address</th>\n",
       "      <th>name</th>\n",
       "      <th>online_order</th>\n",
       "      <th>book_table</th>\n",
       "      <th>rate</th>\n",
       "      <th>votes</th>\n",
       "      <th>phone</th>\n",
       "      <th>location</th>\n",
       "      <th>rest_type</th>\n",
       "      <th>dish_liked</th>\n",
       "      <th>cuisines</th>\n",
       "      <th>approx_cost(for two people)</th>\n",
       "      <th>reviews_list</th>\n",
       "      <th>menu_item</th>\n",
       "      <th>listed_in(type)</th>\n",
       "      <th>listed_in(city)</th>\n",
       "    </tr>\n",
       "  </thead>\n",
       "  <tbody>\n",
       "    <tr>\n",
       "      <th>0</th>\n",
       "      <td>https://www.zomato.com/bangalore/jalsa-banasha...</td>\n",
       "      <td>942, 21st Main Road, 2nd Stage, Banashankari, ...</td>\n",
       "      <td>Jalsa</td>\n",
       "      <td>Yes</td>\n",
       "      <td>Yes</td>\n",
       "      <td>4.1/5</td>\n",
       "      <td>775</td>\n",
       "      <td>080 42297555\\r\\n+91 9743772233</td>\n",
       "      <td>Banashankari</td>\n",
       "      <td>Casual Dining</td>\n",
       "      <td>Pasta, Lunch Buffet, Masala Papad, Paneer Laja...</td>\n",
       "      <td>North Indian, Mughlai, Chinese</td>\n",
       "      <td>800</td>\n",
       "      <td>[('Rated 4.0', 'RATED\\n  A beautiful place to ...</td>\n",
       "      <td>[]</td>\n",
       "      <td>Buffet</td>\n",
       "      <td>Banashankari</td>\n",
       "    </tr>\n",
       "    <tr>\n",
       "      <th>1</th>\n",
       "      <td>https://www.zomato.com/bangalore/spice-elephan...</td>\n",
       "      <td>2nd Floor, 80 Feet Road, Near Big Bazaar, 6th ...</td>\n",
       "      <td>Spice Elephant</td>\n",
       "      <td>Yes</td>\n",
       "      <td>No</td>\n",
       "      <td>4.1/5</td>\n",
       "      <td>787</td>\n",
       "      <td>080 41714161</td>\n",
       "      <td>Banashankari</td>\n",
       "      <td>Casual Dining</td>\n",
       "      <td>Momos, Lunch Buffet, Chocolate Nirvana, Thai G...</td>\n",
       "      <td>Chinese, North Indian, Thai</td>\n",
       "      <td>800</td>\n",
       "      <td>[('Rated 4.0', 'RATED\\n  Had been here for din...</td>\n",
       "      <td>[]</td>\n",
       "      <td>Buffet</td>\n",
       "      <td>Banashankari</td>\n",
       "    </tr>\n",
       "    <tr>\n",
       "      <th>2</th>\n",
       "      <td>https://www.zomato.com/SanchurroBangalore?cont...</td>\n",
       "      <td>1112, Next to KIMS Medical College, 17th Cross...</td>\n",
       "      <td>San Churro Cafe</td>\n",
       "      <td>Yes</td>\n",
       "      <td>No</td>\n",
       "      <td>3.8/5</td>\n",
       "      <td>918</td>\n",
       "      <td>+91 9663487993</td>\n",
       "      <td>Banashankari</td>\n",
       "      <td>Cafe, Casual Dining</td>\n",
       "      <td>Churros, Cannelloni, Minestrone Soup, Hot Choc...</td>\n",
       "      <td>Cafe, Mexican, Italian</td>\n",
       "      <td>800</td>\n",
       "      <td>[('Rated 3.0', \"RATED\\n  Ambience is not that ...</td>\n",
       "      <td>[]</td>\n",
       "      <td>Buffet</td>\n",
       "      <td>Banashankari</td>\n",
       "    </tr>\n",
       "    <tr>\n",
       "      <th>3</th>\n",
       "      <td>https://www.zomato.com/bangalore/addhuri-udupi...</td>\n",
       "      <td>1st Floor, Annakuteera, 3rd Stage, Banashankar...</td>\n",
       "      <td>Addhuri Udupi Bhojana</td>\n",
       "      <td>No</td>\n",
       "      <td>No</td>\n",
       "      <td>3.7/5</td>\n",
       "      <td>88</td>\n",
       "      <td>+91 9620009302</td>\n",
       "      <td>Banashankari</td>\n",
       "      <td>Quick Bites</td>\n",
       "      <td>Masala Dosa</td>\n",
       "      <td>South Indian, North Indian</td>\n",
       "      <td>300</td>\n",
       "      <td>[('Rated 4.0', \"RATED\\n  Great food and proper...</td>\n",
       "      <td>[]</td>\n",
       "      <td>Buffet</td>\n",
       "      <td>Banashankari</td>\n",
       "    </tr>\n",
       "    <tr>\n",
       "      <th>4</th>\n",
       "      <td>https://www.zomato.com/bangalore/grand-village...</td>\n",
       "      <td>10, 3rd Floor, Lakshmi Associates, Gandhi Baza...</td>\n",
       "      <td>Grand Village</td>\n",
       "      <td>No</td>\n",
       "      <td>No</td>\n",
       "      <td>3.8/5</td>\n",
       "      <td>166</td>\n",
       "      <td>+91 8026612447\\r\\n+91 9901210005</td>\n",
       "      <td>Basavanagudi</td>\n",
       "      <td>Casual Dining</td>\n",
       "      <td>Panipuri, Gol Gappe</td>\n",
       "      <td>North Indian, Rajasthani</td>\n",
       "      <td>600</td>\n",
       "      <td>[('Rated 4.0', 'RATED\\n  Very good restaurant ...</td>\n",
       "      <td>[]</td>\n",
       "      <td>Buffet</td>\n",
       "      <td>Banashankari</td>\n",
       "    </tr>\n",
       "  </tbody>\n",
       "</table>\n",
       "</div>"
      ],
      "text/plain": [
       "                                                 url  \\\n",
       "0  https://www.zomato.com/bangalore/jalsa-banasha...   \n",
       "1  https://www.zomato.com/bangalore/spice-elephan...   \n",
       "2  https://www.zomato.com/SanchurroBangalore?cont...   \n",
       "3  https://www.zomato.com/bangalore/addhuri-udupi...   \n",
       "4  https://www.zomato.com/bangalore/grand-village...   \n",
       "\n",
       "                                             address                   name  \\\n",
       "0  942, 21st Main Road, 2nd Stage, Banashankari, ...                  Jalsa   \n",
       "1  2nd Floor, 80 Feet Road, Near Big Bazaar, 6th ...         Spice Elephant   \n",
       "2  1112, Next to KIMS Medical College, 17th Cross...        San Churro Cafe   \n",
       "3  1st Floor, Annakuteera, 3rd Stage, Banashankar...  Addhuri Udupi Bhojana   \n",
       "4  10, 3rd Floor, Lakshmi Associates, Gandhi Baza...          Grand Village   \n",
       "\n",
       "  online_order book_table   rate  votes                             phone  \\\n",
       "0          Yes        Yes  4.1/5    775    080 42297555\\r\\n+91 9743772233   \n",
       "1          Yes         No  4.1/5    787                      080 41714161   \n",
       "2          Yes         No  3.8/5    918                    +91 9663487993   \n",
       "3           No         No  3.7/5     88                    +91 9620009302   \n",
       "4           No         No  3.8/5    166  +91 8026612447\\r\\n+91 9901210005   \n",
       "\n",
       "       location            rest_type  \\\n",
       "0  Banashankari        Casual Dining   \n",
       "1  Banashankari        Casual Dining   \n",
       "2  Banashankari  Cafe, Casual Dining   \n",
       "3  Banashankari          Quick Bites   \n",
       "4  Basavanagudi        Casual Dining   \n",
       "\n",
       "                                          dish_liked  \\\n",
       "0  Pasta, Lunch Buffet, Masala Papad, Paneer Laja...   \n",
       "1  Momos, Lunch Buffet, Chocolate Nirvana, Thai G...   \n",
       "2  Churros, Cannelloni, Minestrone Soup, Hot Choc...   \n",
       "3                                        Masala Dosa   \n",
       "4                                Panipuri, Gol Gappe   \n",
       "\n",
       "                         cuisines approx_cost(for two people)  \\\n",
       "0  North Indian, Mughlai, Chinese                         800   \n",
       "1     Chinese, North Indian, Thai                         800   \n",
       "2          Cafe, Mexican, Italian                         800   \n",
       "3      South Indian, North Indian                         300   \n",
       "4        North Indian, Rajasthani                         600   \n",
       "\n",
       "                                        reviews_list menu_item  \\\n",
       "0  [('Rated 4.0', 'RATED\\n  A beautiful place to ...        []   \n",
       "1  [('Rated 4.0', 'RATED\\n  Had been here for din...        []   \n",
       "2  [('Rated 3.0', \"RATED\\n  Ambience is not that ...        []   \n",
       "3  [('Rated 4.0', \"RATED\\n  Great food and proper...        []   \n",
       "4  [('Rated 4.0', 'RATED\\n  Very good restaurant ...        []   \n",
       "\n",
       "  listed_in(type) listed_in(city)  \n",
       "0          Buffet    Banashankari  \n",
       "1          Buffet    Banashankari  \n",
       "2          Buffet    Banashankari  \n",
       "3          Buffet    Banashankari  \n",
       "4          Buffet    Banashankari  "
      ]
     },
     "execution_count": 4,
     "metadata": {},
     "output_type": "execute_result"
    }
   ],
   "source": [
    "df = df[df[\"rate\"].str.contains(\"/\") == True]\n",
    "df = df.reset_index(drop=True)\n",
    "df.head()"
   ]
  },
  {
   "cell_type": "markdown",
   "id": "a7e57380",
   "metadata": {
    "papermill": {
     "duration": 0.01774,
     "end_time": "2023-02-15T14:24:02.742409",
     "exception": false,
     "start_time": "2023-02-15T14:24:02.724669",
     "status": "completed"
    },
    "tags": []
   },
   "source": [
    "Then we take out all the ratings and keep them separately for adjustments."
   ]
  },
  {
   "cell_type": "code",
   "execution_count": 5,
   "id": "b8a46d32",
   "metadata": {
    "execution": {
     "iopub.execute_input": "2023-02-15T14:24:02.779966Z",
     "iopub.status.busy": "2023-02-15T14:24:02.779616Z",
     "iopub.status.idle": "2023-02-15T14:24:02.787357Z",
     "shell.execute_reply": "2023-02-15T14:24:02.786272Z"
    },
    "papermill": {
     "duration": 0.028458,
     "end_time": "2023-02-15T14:24:02.789305",
     "exception": false,
     "start_time": "2023-02-15T14:24:02.760847",
     "status": "completed"
    },
    "tags": []
   },
   "outputs": [
    {
     "name": "stdout",
     "output_type": "stream",
     "text": [
      "0         4.1/5\n",
      "1         4.1/5\n",
      "2         3.8/5\n",
      "3         3.7/5\n",
      "4         3.8/5\n",
      "          ...  \n",
      "23041    3.8 /5\n",
      "23042    3.9 /5\n",
      "23043    2.8 /5\n",
      "23044    2.5 /5\n",
      "23045    4.3 /5\n",
      "Name: rate, Length: 23046, dtype: object\n"
     ]
    }
   ],
   "source": [
    "ratings = df.loc[:,\"rate\"]\n",
    "ratings = ratings.reset_index(drop=True)\n",
    "\n",
    "print(ratings)"
   ]
  },
  {
   "cell_type": "markdown",
   "id": "3e5a1b1c",
   "metadata": {
    "papermill": {
     "duration": 0.017829,
     "end_time": "2023-02-15T14:24:02.825821",
     "exception": false,
     "start_time": "2023-02-15T14:24:02.807992",
     "status": "completed"
    },
    "tags": []
   },
   "source": [
    "Here we run through the new ratings list (df), converting them to a numerical value rather than the string with \"X/5\""
   ]
  },
  {
   "cell_type": "code",
   "execution_count": 6,
   "id": "92cc5dcf",
   "metadata": {
    "execution": {
     "iopub.execute_input": "2023-02-15T14:24:02.864518Z",
     "iopub.status.busy": "2023-02-15T14:24:02.864161Z",
     "iopub.status.idle": "2023-02-15T14:24:03.353523Z",
     "shell.execute_reply": "2023-02-15T14:24:03.352187Z"
    },
    "papermill": {
     "duration": 0.512842,
     "end_time": "2023-02-15T14:24:03.357016",
     "exception": false,
     "start_time": "2023-02-15T14:24:02.844174",
     "status": "completed"
    },
    "tags": []
   },
   "outputs": [
    {
     "name": "stdout",
     "output_type": "stream",
     "text": [
      "0        4.1\n",
      "1        4.1\n",
      "2        3.8\n",
      "3        3.7\n",
      "4        3.8\n",
      "        ... \n",
      "23041    3.8\n",
      "23042    3.9\n",
      "23043    2.8\n",
      "23044    2.5\n",
      "23045    4.3\n",
      "Name: rate, Length: 23046, dtype: object\n"
     ]
    }
   ],
   "source": [
    "for i in range(len(ratings)):\n",
    "    if str(ratings[i])==ratings[i] and \"/\" in ratings[i]:\n",
    "        ratings[i] = float(ratings[i][0:ratings[i].index(\"/\")])\n",
    "    else:\n",
    "        ratings[i] = float(ratings[i])\n",
    "    \n",
    "print(ratings)"
   ]
  },
  {
   "cell_type": "markdown",
   "id": "b26d15e7",
   "metadata": {
    "papermill": {
     "duration": 0.018499,
     "end_time": "2023-02-15T14:24:03.394541",
     "exception": false,
     "start_time": "2023-02-15T14:24:03.376042",
     "status": "completed"
    },
    "tags": []
   },
   "source": [
    "And finally inputting them back into the df:"
   ]
  },
  {
   "cell_type": "code",
   "execution_count": 7,
   "id": "a8771368",
   "metadata": {
    "execution": {
     "iopub.execute_input": "2023-02-15T14:24:03.433847Z",
     "iopub.status.busy": "2023-02-15T14:24:03.433517Z",
     "iopub.status.idle": "2023-02-15T14:24:03.438486Z",
     "shell.execute_reply": "2023-02-15T14:24:03.437526Z"
    },
    "papermill": {
     "duration": 0.027103,
     "end_time": "2023-02-15T14:24:03.440803",
     "exception": false,
     "start_time": "2023-02-15T14:24:03.413700",
     "status": "completed"
    },
    "tags": []
   },
   "outputs": [],
   "source": [
    "df[\"rate\"] = ratings"
   ]
  },
  {
   "cell_type": "code",
   "execution_count": 8,
   "id": "f6d4e0c5",
   "metadata": {
    "execution": {
     "iopub.execute_input": "2023-02-15T14:24:03.479371Z",
     "iopub.status.busy": "2023-02-15T14:24:03.479048Z",
     "iopub.status.idle": "2023-02-15T14:24:03.498238Z",
     "shell.execute_reply": "2023-02-15T14:24:03.496922Z"
    },
    "papermill": {
     "duration": 0.041365,
     "end_time": "2023-02-15T14:24:03.500719",
     "exception": false,
     "start_time": "2023-02-15T14:24:03.459354",
     "status": "completed"
    },
    "tags": []
   },
   "outputs": [
    {
     "data": {
      "text/html": [
       "<div>\n",
       "<style scoped>\n",
       "    .dataframe tbody tr th:only-of-type {\n",
       "        vertical-align: middle;\n",
       "    }\n",
       "\n",
       "    .dataframe tbody tr th {\n",
       "        vertical-align: top;\n",
       "    }\n",
       "\n",
       "    .dataframe thead th {\n",
       "        text-align: right;\n",
       "    }\n",
       "</style>\n",
       "<table border=\"1\" class=\"dataframe\">\n",
       "  <thead>\n",
       "    <tr style=\"text-align: right;\">\n",
       "      <th></th>\n",
       "      <th>url</th>\n",
       "      <th>address</th>\n",
       "      <th>name</th>\n",
       "      <th>online_order</th>\n",
       "      <th>book_table</th>\n",
       "      <th>rate</th>\n",
       "      <th>votes</th>\n",
       "      <th>phone</th>\n",
       "      <th>location</th>\n",
       "      <th>rest_type</th>\n",
       "      <th>dish_liked</th>\n",
       "      <th>cuisines</th>\n",
       "      <th>approx_cost(for two people)</th>\n",
       "      <th>reviews_list</th>\n",
       "      <th>menu_item</th>\n",
       "      <th>listed_in(type)</th>\n",
       "      <th>listed_in(city)</th>\n",
       "    </tr>\n",
       "  </thead>\n",
       "  <tbody>\n",
       "    <tr>\n",
       "      <th>0</th>\n",
       "      <td>https://www.zomato.com/bangalore/jalsa-banasha...</td>\n",
       "      <td>942, 21st Main Road, 2nd Stage, Banashankari, ...</td>\n",
       "      <td>Jalsa</td>\n",
       "      <td>Yes</td>\n",
       "      <td>Yes</td>\n",
       "      <td>4.1</td>\n",
       "      <td>775</td>\n",
       "      <td>080 42297555\\r\\n+91 9743772233</td>\n",
       "      <td>Banashankari</td>\n",
       "      <td>Casual Dining</td>\n",
       "      <td>Pasta, Lunch Buffet, Masala Papad, Paneer Laja...</td>\n",
       "      <td>North Indian, Mughlai, Chinese</td>\n",
       "      <td>800</td>\n",
       "      <td>[('Rated 4.0', 'RATED\\n  A beautiful place to ...</td>\n",
       "      <td>[]</td>\n",
       "      <td>Buffet</td>\n",
       "      <td>Banashankari</td>\n",
       "    </tr>\n",
       "    <tr>\n",
       "      <th>1</th>\n",
       "      <td>https://www.zomato.com/bangalore/spice-elephan...</td>\n",
       "      <td>2nd Floor, 80 Feet Road, Near Big Bazaar, 6th ...</td>\n",
       "      <td>Spice Elephant</td>\n",
       "      <td>Yes</td>\n",
       "      <td>No</td>\n",
       "      <td>4.1</td>\n",
       "      <td>787</td>\n",
       "      <td>080 41714161</td>\n",
       "      <td>Banashankari</td>\n",
       "      <td>Casual Dining</td>\n",
       "      <td>Momos, Lunch Buffet, Chocolate Nirvana, Thai G...</td>\n",
       "      <td>Chinese, North Indian, Thai</td>\n",
       "      <td>800</td>\n",
       "      <td>[('Rated 4.0', 'RATED\\n  Had been here for din...</td>\n",
       "      <td>[]</td>\n",
       "      <td>Buffet</td>\n",
       "      <td>Banashankari</td>\n",
       "    </tr>\n",
       "    <tr>\n",
       "      <th>2</th>\n",
       "      <td>https://www.zomato.com/SanchurroBangalore?cont...</td>\n",
       "      <td>1112, Next to KIMS Medical College, 17th Cross...</td>\n",
       "      <td>San Churro Cafe</td>\n",
       "      <td>Yes</td>\n",
       "      <td>No</td>\n",
       "      <td>3.8</td>\n",
       "      <td>918</td>\n",
       "      <td>+91 9663487993</td>\n",
       "      <td>Banashankari</td>\n",
       "      <td>Cafe, Casual Dining</td>\n",
       "      <td>Churros, Cannelloni, Minestrone Soup, Hot Choc...</td>\n",
       "      <td>Cafe, Mexican, Italian</td>\n",
       "      <td>800</td>\n",
       "      <td>[('Rated 3.0', \"RATED\\n  Ambience is not that ...</td>\n",
       "      <td>[]</td>\n",
       "      <td>Buffet</td>\n",
       "      <td>Banashankari</td>\n",
       "    </tr>\n",
       "    <tr>\n",
       "      <th>3</th>\n",
       "      <td>https://www.zomato.com/bangalore/addhuri-udupi...</td>\n",
       "      <td>1st Floor, Annakuteera, 3rd Stage, Banashankar...</td>\n",
       "      <td>Addhuri Udupi Bhojana</td>\n",
       "      <td>No</td>\n",
       "      <td>No</td>\n",
       "      <td>3.7</td>\n",
       "      <td>88</td>\n",
       "      <td>+91 9620009302</td>\n",
       "      <td>Banashankari</td>\n",
       "      <td>Quick Bites</td>\n",
       "      <td>Masala Dosa</td>\n",
       "      <td>South Indian, North Indian</td>\n",
       "      <td>300</td>\n",
       "      <td>[('Rated 4.0', \"RATED\\n  Great food and proper...</td>\n",
       "      <td>[]</td>\n",
       "      <td>Buffet</td>\n",
       "      <td>Banashankari</td>\n",
       "    </tr>\n",
       "    <tr>\n",
       "      <th>4</th>\n",
       "      <td>https://www.zomato.com/bangalore/grand-village...</td>\n",
       "      <td>10, 3rd Floor, Lakshmi Associates, Gandhi Baza...</td>\n",
       "      <td>Grand Village</td>\n",
       "      <td>No</td>\n",
       "      <td>No</td>\n",
       "      <td>3.8</td>\n",
       "      <td>166</td>\n",
       "      <td>+91 8026612447\\r\\n+91 9901210005</td>\n",
       "      <td>Basavanagudi</td>\n",
       "      <td>Casual Dining</td>\n",
       "      <td>Panipuri, Gol Gappe</td>\n",
       "      <td>North Indian, Rajasthani</td>\n",
       "      <td>600</td>\n",
       "      <td>[('Rated 4.0', 'RATED\\n  Very good restaurant ...</td>\n",
       "      <td>[]</td>\n",
       "      <td>Buffet</td>\n",
       "      <td>Banashankari</td>\n",
       "    </tr>\n",
       "  </tbody>\n",
       "</table>\n",
       "</div>"
      ],
      "text/plain": [
       "                                                 url  \\\n",
       "0  https://www.zomato.com/bangalore/jalsa-banasha...   \n",
       "1  https://www.zomato.com/bangalore/spice-elephan...   \n",
       "2  https://www.zomato.com/SanchurroBangalore?cont...   \n",
       "3  https://www.zomato.com/bangalore/addhuri-udupi...   \n",
       "4  https://www.zomato.com/bangalore/grand-village...   \n",
       "\n",
       "                                             address                   name  \\\n",
       "0  942, 21st Main Road, 2nd Stage, Banashankari, ...                  Jalsa   \n",
       "1  2nd Floor, 80 Feet Road, Near Big Bazaar, 6th ...         Spice Elephant   \n",
       "2  1112, Next to KIMS Medical College, 17th Cross...        San Churro Cafe   \n",
       "3  1st Floor, Annakuteera, 3rd Stage, Banashankar...  Addhuri Udupi Bhojana   \n",
       "4  10, 3rd Floor, Lakshmi Associates, Gandhi Baza...          Grand Village   \n",
       "\n",
       "  online_order book_table rate  votes                             phone  \\\n",
       "0          Yes        Yes  4.1    775    080 42297555\\r\\n+91 9743772233   \n",
       "1          Yes         No  4.1    787                      080 41714161   \n",
       "2          Yes         No  3.8    918                    +91 9663487993   \n",
       "3           No         No  3.7     88                    +91 9620009302   \n",
       "4           No         No  3.8    166  +91 8026612447\\r\\n+91 9901210005   \n",
       "\n",
       "       location            rest_type  \\\n",
       "0  Banashankari        Casual Dining   \n",
       "1  Banashankari        Casual Dining   \n",
       "2  Banashankari  Cafe, Casual Dining   \n",
       "3  Banashankari          Quick Bites   \n",
       "4  Basavanagudi        Casual Dining   \n",
       "\n",
       "                                          dish_liked  \\\n",
       "0  Pasta, Lunch Buffet, Masala Papad, Paneer Laja...   \n",
       "1  Momos, Lunch Buffet, Chocolate Nirvana, Thai G...   \n",
       "2  Churros, Cannelloni, Minestrone Soup, Hot Choc...   \n",
       "3                                        Masala Dosa   \n",
       "4                                Panipuri, Gol Gappe   \n",
       "\n",
       "                         cuisines approx_cost(for two people)  \\\n",
       "0  North Indian, Mughlai, Chinese                         800   \n",
       "1     Chinese, North Indian, Thai                         800   \n",
       "2          Cafe, Mexican, Italian                         800   \n",
       "3      South Indian, North Indian                         300   \n",
       "4        North Indian, Rajasthani                         600   \n",
       "\n",
       "                                        reviews_list menu_item  \\\n",
       "0  [('Rated 4.0', 'RATED\\n  A beautiful place to ...        []   \n",
       "1  [('Rated 4.0', 'RATED\\n  Had been here for din...        []   \n",
       "2  [('Rated 3.0', \"RATED\\n  Ambience is not that ...        []   \n",
       "3  [('Rated 4.0', \"RATED\\n  Great food and proper...        []   \n",
       "4  [('Rated 4.0', 'RATED\\n  Very good restaurant ...        []   \n",
       "\n",
       "  listed_in(type) listed_in(city)  \n",
       "0          Buffet    Banashankari  \n",
       "1          Buffet    Banashankari  \n",
       "2          Buffet    Banashankari  \n",
       "3          Buffet    Banashankari  \n",
       "4          Buffet    Banashankari  "
      ]
     },
     "execution_count": 8,
     "metadata": {},
     "output_type": "execute_result"
    }
   ],
   "source": [
    "df.head()"
   ]
  },
  {
   "cell_type": "markdown",
   "id": "4bd5e963",
   "metadata": {
    "papermill": {
     "duration": 0.018568,
     "end_time": "2023-02-15T14:24:03.538542",
     "exception": false,
     "start_time": "2023-02-15T14:24:03.519974",
     "status": "completed"
    },
    "tags": []
   },
   "source": [
    "Removing some of the columns that we're not interested in (url, phone number, etc. not relevant for our purposes). Some are removed because there are too many different types of responses, which makes interpreting/quantifying difficult.\n",
    "\n",
    "df4 is created for later use with sentiment analysis on the reviews."
   ]
  },
  {
   "cell_type": "code",
   "execution_count": 9,
   "id": "10534e73",
   "metadata": {
    "execution": {
     "iopub.execute_input": "2023-02-15T14:24:03.577562Z",
     "iopub.status.busy": "2023-02-15T14:24:03.577206Z",
     "iopub.status.idle": "2023-02-15T14:24:03.588564Z",
     "shell.execute_reply": "2023-02-15T14:24:03.587819Z"
    },
    "papermill": {
     "duration": 0.032975,
     "end_time": "2023-02-15T14:24:03.590145",
     "exception": false,
     "start_time": "2023-02-15T14:24:03.557170",
     "status": "completed"
    },
    "tags": []
   },
   "outputs": [],
   "source": [
    "df4 = df[\"reviews_list\"]\n",
    "df.drop([\"url\", \"address\", \"name\", \"phone\", \"dish_liked\", \"menu_item\", \"reviews_list\"], axis=1, inplace=True)"
   ]
  },
  {
   "cell_type": "markdown",
   "id": "affa63df",
   "metadata": {
    "papermill": {
     "duration": 0.018397,
     "end_time": "2023-02-15T14:24:03.627409",
     "exception": false,
     "start_time": "2023-02-15T14:24:03.609012",
     "status": "completed"
    },
    "tags": []
   },
   "source": [
    "just checking that the lengths are the same so that nothing has gone wrong:"
   ]
  },
  {
   "cell_type": "code",
   "execution_count": 10,
   "id": "99d09d9f",
   "metadata": {
    "execution": {
     "iopub.execute_input": "2023-02-15T14:24:03.667099Z",
     "iopub.status.busy": "2023-02-15T14:24:03.666714Z",
     "iopub.status.idle": "2023-02-15T14:24:03.672123Z",
     "shell.execute_reply": "2023-02-15T14:24:03.670682Z"
    },
    "papermill": {
     "duration": 0.027772,
     "end_time": "2023-02-15T14:24:03.674201",
     "exception": false,
     "start_time": "2023-02-15T14:24:03.646429",
     "status": "completed"
    },
    "tags": []
   },
   "outputs": [
    {
     "name": "stdout",
     "output_type": "stream",
     "text": [
      "23046\n",
      "23046\n"
     ]
    }
   ],
   "source": [
    "print(len(df4))\n",
    "print(len(df[\"rate\"]))"
   ]
  },
  {
   "cell_type": "markdown",
   "id": "d11873b9",
   "metadata": {
    "papermill": {
     "duration": 0.018604,
     "end_time": "2023-02-15T14:24:03.712225",
     "exception": false,
     "start_time": "2023-02-15T14:24:03.693621",
     "status": "completed"
    },
    "tags": []
   },
   "source": [
    "We should also check that the votes and cost are integers. I already checked that the votes are all ints so that is fine. Below we found that the costs are strings, and some contain commas which cant directly be converted into float or int, so below we remove those commas and then convert to float."
   ]
  },
  {
   "cell_type": "code",
   "execution_count": 11,
   "id": "5eeec081",
   "metadata": {
    "execution": {
     "iopub.execute_input": "2023-02-15T14:24:03.752624Z",
     "iopub.status.busy": "2023-02-15T14:24:03.752289Z",
     "iopub.status.idle": "2023-02-15T14:24:10.202280Z",
     "shell.execute_reply": "2023-02-15T14:24:10.200482Z"
    },
    "papermill": {
     "duration": 6.473745,
     "end_time": "2023-02-15T14:24:10.204770",
     "exception": false,
     "start_time": "2023-02-15T14:24:03.731025",
     "status": "completed"
    },
    "tags": []
   },
   "outputs": [
    {
     "name": "stdout",
     "output_type": "stream",
     "text": [
      "object\n"
     ]
    },
    {
     "name": "stderr",
     "output_type": "stream",
     "text": [
      "/opt/conda/lib/python3.7/site-packages/ipykernel_launcher.py:4: SettingWithCopyWarning: \n",
      "A value is trying to be set on a copy of a slice from a DataFrame\n",
      "\n",
      "See the caveats in the documentation: https://pandas.pydata.org/pandas-docs/stable/user_guide/indexing.html#returning-a-view-versus-a-copy\n",
      "  after removing the cwd from sys.path.\n"
     ]
    }
   ],
   "source": [
    "print(df[\"approx_cost(for two people)\"].dtype) #as this returns Object, it is not only strings/floats.\n",
    "costs = df.loc[:,\"approx_cost(for two people)\"]\n",
    "for i in range(len(costs)):\n",
    "    costs[i] = costs[i].replace(\",\",\"\")\n",
    "df[\"approx_cost(for two people)\"] = costs.astype(float)"
   ]
  },
  {
   "cell_type": "markdown",
   "id": "cebfe10d",
   "metadata": {
    "papermill": {
     "duration": 0.018713,
     "end_time": "2023-02-15T14:24:10.242468",
     "exception": false,
     "start_time": "2023-02-15T14:24:10.223755",
     "status": "completed"
    },
    "tags": []
   },
   "source": [
    "**Data Visualization**\n",
    "\n",
    "Visualizing some of our data using seaborn:"
   ]
  },
  {
   "cell_type": "code",
   "execution_count": 12,
   "id": "3f2085b3",
   "metadata": {
    "execution": {
     "iopub.execute_input": "2023-02-15T14:24:10.282640Z",
     "iopub.status.busy": "2023-02-15T14:24:10.282330Z",
     "iopub.status.idle": "2023-02-15T14:24:11.823914Z",
     "shell.execute_reply": "2023-02-15T14:24:11.822915Z"
    },
    "papermill": {
     "duration": 1.564197,
     "end_time": "2023-02-15T14:24:11.826119",
     "exception": false,
     "start_time": "2023-02-15T14:24:10.261922",
     "status": "completed"
    },
    "tags": []
   },
   "outputs": [
    {
     "data": {
      "text/plain": [
       "(array([ 0,  1,  2,  3,  4,  5,  6,  7,  8,  9, 10, 11, 12, 13, 14, 15, 16,\n",
       "        17, 18, 19, 20, 21, 22, 23, 24, 25, 26, 27, 28, 29, 30]),\n",
       " [Text(0, 0, '1.8'),\n",
       "  Text(1, 0, '2.0'),\n",
       "  Text(2, 0, '2.1'),\n",
       "  Text(3, 0, '2.2'),\n",
       "  Text(4, 0, '2.3'),\n",
       "  Text(5, 0, '2.4'),\n",
       "  Text(6, 0, '2.5'),\n",
       "  Text(7, 0, '2.6'),\n",
       "  Text(8, 0, '2.7'),\n",
       "  Text(9, 0, '2.8'),\n",
       "  Text(10, 0, '2.9'),\n",
       "  Text(11, 0, '3.0'),\n",
       "  Text(12, 0, '3.1'),\n",
       "  Text(13, 0, '3.2'),\n",
       "  Text(14, 0, '3.3'),\n",
       "  Text(15, 0, '3.4'),\n",
       "  Text(16, 0, '3.5'),\n",
       "  Text(17, 0, '3.6'),\n",
       "  Text(18, 0, '3.7'),\n",
       "  Text(19, 0, '3.8'),\n",
       "  Text(20, 0, '3.9'),\n",
       "  Text(21, 0, '4.0'),\n",
       "  Text(22, 0, '4.1'),\n",
       "  Text(23, 0, '4.2'),\n",
       "  Text(24, 0, '4.3'),\n",
       "  Text(25, 0, '4.4'),\n",
       "  Text(26, 0, '4.5'),\n",
       "  Text(27, 0, '4.6'),\n",
       "  Text(28, 0, '4.7'),\n",
       "  Text(29, 0, '4.8'),\n",
       "  Text(30, 0, '4.9')])"
      ]
     },
     "execution_count": 12,
     "metadata": {},
     "output_type": "execute_result"
    },
    {
     "data": {
      "image/png": "[encoded data removed]",
      "text/plain": [
       "<Figure size 432x288 with 1 Axes>"
      ]
     },
     "metadata": {
      "needs_background": "light"
     },
     "output_type": "display_data"
    }
   ],
   "source": [
    "import matplotlib.pyplot as plt\n",
    "import seaborn as sns\n",
    "\n",
    "#showing the spread of ratings, looks approx normal with a nevative skew.\n",
    "sns.countplot(x = 'rate', palette = 'Set2', data = df)\n",
    "plt.xlabel(\"Rating\")\n",
    "plt.ylabel(\"Occurences\")\n",
    "plt.title(\"Counts of different ratings\")\n",
    "plt.xticks(rotation=70)\n",
    "\n",
    "#then testing with online_order it seems there's about twice as many that allow it than don't\n",
    "#testing with book_table it seems that most don't, but still more than 5000 do.\n",
    "#testing with listed_in(type) we have 7 types of restaurant."
   ]
  },
  {
   "cell_type": "markdown",
   "id": "d9664e81",
   "metadata": {
    "papermill": {
     "duration": 0.018731,
     "end_time": "2023-02-15T14:24:11.863719",
     "exception": false,
     "start_time": "2023-02-15T14:24:11.844988",
     "status": "completed"
    },
    "tags": []
   },
   "source": [
    "The below code drops some more of the variables that are harder to quantify. Instead we'll focus on some things that are easier to work with. When using \"describe\" however, nothing shows up for \"rate\", indicating that there's something wrong with its data."
   ]
  },
  {
   "cell_type": "code",
   "execution_count": 13,
   "id": "7894e6c3",
   "metadata": {
    "execution": {
     "iopub.execute_input": "2023-02-15T14:24:11.903645Z",
     "iopub.status.busy": "2023-02-15T14:24:11.903306Z",
     "iopub.status.idle": "2023-02-15T14:24:11.929165Z",
     "shell.execute_reply": "2023-02-15T14:24:11.928164Z"
    },
    "papermill": {
     "duration": 0.04806,
     "end_time": "2023-02-15T14:24:11.930955",
     "exception": false,
     "start_time": "2023-02-15T14:24:11.882895",
     "status": "completed"
    },
    "tags": []
   },
   "outputs": [
    {
     "data": {
      "text/html": [
       "<div>\n",
       "<style scoped>\n",
       "    .dataframe tbody tr th:only-of-type {\n",
       "        vertical-align: middle;\n",
       "    }\n",
       "\n",
       "    .dataframe tbody tr th {\n",
       "        vertical-align: top;\n",
       "    }\n",
       "\n",
       "    .dataframe thead th {\n",
       "        text-align: right;\n",
       "    }\n",
       "</style>\n",
       "<table border=\"1\" class=\"dataframe\">\n",
       "  <thead>\n",
       "    <tr style=\"text-align: right;\">\n",
       "      <th></th>\n",
       "      <th>votes</th>\n",
       "      <th>approx_cost(for two people)</th>\n",
       "    </tr>\n",
       "  </thead>\n",
       "  <tbody>\n",
       "    <tr>\n",
       "      <th>count</th>\n",
       "      <td>23046.000000</td>\n",
       "      <td>23046.000000</td>\n",
       "    </tr>\n",
       "    <tr>\n",
       "      <th>mean</th>\n",
       "      <td>604.908444</td>\n",
       "      <td>754.299662</td>\n",
       "    </tr>\n",
       "    <tr>\n",
       "      <th>std</th>\n",
       "      <td>1117.367014</td>\n",
       "      <td>521.538416</td>\n",
       "    </tr>\n",
       "    <tr>\n",
       "      <th>min</th>\n",
       "      <td>0.000000</td>\n",
       "      <td>40.000000</td>\n",
       "    </tr>\n",
       "    <tr>\n",
       "      <th>25%</th>\n",
       "      <td>103.000000</td>\n",
       "      <td>400.000000</td>\n",
       "    </tr>\n",
       "    <tr>\n",
       "      <th>50%</th>\n",
       "      <td>224.000000</td>\n",
       "      <td>600.000000</td>\n",
       "    </tr>\n",
       "    <tr>\n",
       "      <th>75%</th>\n",
       "      <td>591.000000</td>\n",
       "      <td>1000.000000</td>\n",
       "    </tr>\n",
       "    <tr>\n",
       "      <th>max</th>\n",
       "      <td>16832.000000</td>\n",
       "      <td>6000.000000</td>\n",
       "    </tr>\n",
       "  </tbody>\n",
       "</table>\n",
       "</div>"
      ],
      "text/plain": [
       "              votes  approx_cost(for two people)\n",
       "count  23046.000000                 23046.000000\n",
       "mean     604.908444                   754.299662\n",
       "std     1117.367014                   521.538416\n",
       "min        0.000000                    40.000000\n",
       "25%      103.000000                   400.000000\n",
       "50%      224.000000                   600.000000\n",
       "75%      591.000000                  1000.000000\n",
       "max    16832.000000                  6000.000000"
      ]
     },
     "execution_count": 13,
     "metadata": {},
     "output_type": "execute_result"
    }
   ],
   "source": [
    "df2 = df.copy() #we'll continue working with df2 just to avoid damaging the original data by accident from here on.\n",
    "df2.drop([\"location\", \"rest_type\", \"cuisines\", \"listed_in(city)\"], axis=1, inplace=True)\n",
    "df2.head()\n",
    "df2.describe()"
   ]
  },
  {
   "cell_type": "markdown",
   "id": "e1104968",
   "metadata": {
    "papermill": {
     "duration": 0.020242,
     "end_time": "2023-02-15T14:24:11.971252",
     "exception": false,
     "start_time": "2023-02-15T14:24:11.951010",
     "status": "completed"
    },
    "tags": []
   },
   "source": [
    "To fix this we can simply convert the whole column into floats:"
   ]
  },
  {
   "cell_type": "code",
   "execution_count": 14,
   "id": "f223183e",
   "metadata": {
    "execution": {
     "iopub.execute_input": "2023-02-15T14:24:12.013495Z",
     "iopub.status.busy": "2023-02-15T14:24:12.012247Z",
     "iopub.status.idle": "2023-02-15T14:24:12.022232Z",
     "shell.execute_reply": "2023-02-15T14:24:12.020584Z"
    },
    "papermill": {
     "duration": 0.03347,
     "end_time": "2023-02-15T14:24:12.024786",
     "exception": false,
     "start_time": "2023-02-15T14:24:11.991316",
     "status": "completed"
    },
    "tags": []
   },
   "outputs": [],
   "source": [
    "df2['rate'] = df2['rate'].astype(float)"
   ]
  },
  {
   "cell_type": "markdown",
   "id": "ac12d5e8",
   "metadata": {
    "papermill": {
     "duration": 0.019958,
     "end_time": "2023-02-15T14:24:12.065297",
     "exception": false,
     "start_time": "2023-02-15T14:24:12.045339",
     "status": "completed"
    },
    "tags": []
   },
   "source": [
    "Running Describe() again below shows that it worked"
   ]
  },
  {
   "cell_type": "code",
   "execution_count": 15,
   "id": "97e9ec93",
   "metadata": {
    "execution": {
     "iopub.execute_input": "2023-02-15T14:24:12.106604Z",
     "iopub.status.busy": "2023-02-15T14:24:12.106293Z",
     "iopub.status.idle": "2023-02-15T14:24:12.127167Z",
     "shell.execute_reply": "2023-02-15T14:24:12.125150Z"
    },
    "papermill": {
     "duration": 0.044761,
     "end_time": "2023-02-15T14:24:12.129757",
     "exception": false,
     "start_time": "2023-02-15T14:24:12.084996",
     "status": "completed"
    },
    "tags": []
   },
   "outputs": [
    {
     "data": {
      "text/html": [
       "<div>\n",
       "<style scoped>\n",
       "    .dataframe tbody tr th:only-of-type {\n",
       "        vertical-align: middle;\n",
       "    }\n",
       "\n",
       "    .dataframe tbody tr th {\n",
       "        vertical-align: top;\n",
       "    }\n",
       "\n",
       "    .dataframe thead th {\n",
       "        text-align: right;\n",
       "    }\n",
       "</style>\n",
       "<table border=\"1\" class=\"dataframe\">\n",
       "  <thead>\n",
       "    <tr style=\"text-align: right;\">\n",
       "      <th></th>\n",
       "      <th>rate</th>\n",
       "      <th>votes</th>\n",
       "      <th>approx_cost(for two people)</th>\n",
       "    </tr>\n",
       "  </thead>\n",
       "  <tbody>\n",
       "    <tr>\n",
       "      <th>count</th>\n",
       "      <td>23046.000000</td>\n",
       "      <td>23046.000000</td>\n",
       "      <td>23046.000000</td>\n",
       "    </tr>\n",
       "    <tr>\n",
       "      <th>mean</th>\n",
       "      <td>3.904383</td>\n",
       "      <td>604.908444</td>\n",
       "      <td>754.299662</td>\n",
       "    </tr>\n",
       "    <tr>\n",
       "      <th>std</th>\n",
       "      <td>0.426365</td>\n",
       "      <td>1117.367014</td>\n",
       "      <td>521.538416</td>\n",
       "    </tr>\n",
       "    <tr>\n",
       "      <th>min</th>\n",
       "      <td>1.800000</td>\n",
       "      <td>0.000000</td>\n",
       "      <td>40.000000</td>\n",
       "    </tr>\n",
       "    <tr>\n",
       "      <th>25%</th>\n",
       "      <td>3.800000</td>\n",
       "      <td>103.000000</td>\n",
       "      <td>400.000000</td>\n",
       "    </tr>\n",
       "    <tr>\n",
       "      <th>50%</th>\n",
       "      <td>4.000000</td>\n",
       "      <td>224.000000</td>\n",
       "      <td>600.000000</td>\n",
       "    </tr>\n",
       "    <tr>\n",
       "      <th>75%</th>\n",
       "      <td>4.200000</td>\n",
       "      <td>591.000000</td>\n",
       "      <td>1000.000000</td>\n",
       "    </tr>\n",
       "    <tr>\n",
       "      <th>max</th>\n",
       "      <td>4.900000</td>\n",
       "      <td>16832.000000</td>\n",
       "      <td>6000.000000</td>\n",
       "    </tr>\n",
       "  </tbody>\n",
       "</table>\n",
       "</div>"
      ],
      "text/plain": [
       "               rate         votes  approx_cost(for two people)\n",
       "count  23046.000000  23046.000000                 23046.000000\n",
       "mean       3.904383    604.908444                   754.299662\n",
       "std        0.426365   1117.367014                   521.538416\n",
       "min        1.800000      0.000000                    40.000000\n",
       "25%        3.800000    103.000000                   400.000000\n",
       "50%        4.000000    224.000000                   600.000000\n",
       "75%        4.200000    591.000000                  1000.000000\n",
       "max        4.900000  16832.000000                  6000.000000"
      ]
     },
     "execution_count": 15,
     "metadata": {},
     "output_type": "execute_result"
    }
   ],
   "source": [
    "df2.describe()"
   ]
  },
  {
   "cell_type": "markdown",
   "id": "e1b65657",
   "metadata": {
    "papermill": {
     "duration": 0.019555,
     "end_time": "2023-02-15T14:24:12.170315",
     "exception": false,
     "start_time": "2023-02-15T14:24:12.150760",
     "status": "completed"
    },
    "tags": []
   },
   "source": [
    "Now the votes and costs are all ints or floats.\n",
    "Lastly double checking our data:"
   ]
  },
  {
   "cell_type": "code",
   "execution_count": 16,
   "id": "15740d63",
   "metadata": {
    "execution": {
     "iopub.execute_input": "2023-02-15T14:24:12.211821Z",
     "iopub.status.busy": "2023-02-15T14:24:12.211484Z",
     "iopub.status.idle": "2023-02-15T14:24:12.224669Z",
     "shell.execute_reply": "2023-02-15T14:24:12.223559Z"
    },
    "papermill": {
     "duration": 0.036709,
     "end_time": "2023-02-15T14:24:12.226999",
     "exception": false,
     "start_time": "2023-02-15T14:24:12.190290",
     "status": "completed"
    },
    "tags": []
   },
   "outputs": [
    {
     "data": {
      "text/html": [
       "<div>\n",
       "<style scoped>\n",
       "    .dataframe tbody tr th:only-of-type {\n",
       "        vertical-align: middle;\n",
       "    }\n",
       "\n",
       "    .dataframe tbody tr th {\n",
       "        vertical-align: top;\n",
       "    }\n",
       "\n",
       "    .dataframe thead th {\n",
       "        text-align: right;\n",
       "    }\n",
       "</style>\n",
       "<table border=\"1\" class=\"dataframe\">\n",
       "  <thead>\n",
       "    <tr style=\"text-align: right;\">\n",
       "      <th></th>\n",
       "      <th>online_order</th>\n",
       "      <th>book_table</th>\n",
       "      <th>rate</th>\n",
       "      <th>votes</th>\n",
       "      <th>approx_cost(for two people)</th>\n",
       "      <th>listed_in(type)</th>\n",
       "    </tr>\n",
       "  </thead>\n",
       "  <tbody>\n",
       "    <tr>\n",
       "      <th>0</th>\n",
       "      <td>Yes</td>\n",
       "      <td>Yes</td>\n",
       "      <td>4.1</td>\n",
       "      <td>775</td>\n",
       "      <td>800.0</td>\n",
       "      <td>Buffet</td>\n",
       "    </tr>\n",
       "    <tr>\n",
       "      <th>1</th>\n",
       "      <td>Yes</td>\n",
       "      <td>No</td>\n",
       "      <td>4.1</td>\n",
       "      <td>787</td>\n",
       "      <td>800.0</td>\n",
       "      <td>Buffet</td>\n",
       "    </tr>\n",
       "    <tr>\n",
       "      <th>2</th>\n",
       "      <td>Yes</td>\n",
       "      <td>No</td>\n",
       "      <td>3.8</td>\n",
       "      <td>918</td>\n",
       "      <td>800.0</td>\n",
       "      <td>Buffet</td>\n",
       "    </tr>\n",
       "    <tr>\n",
       "      <th>3</th>\n",
       "      <td>No</td>\n",
       "      <td>No</td>\n",
       "      <td>3.7</td>\n",
       "      <td>88</td>\n",
       "      <td>300.0</td>\n",
       "      <td>Buffet</td>\n",
       "    </tr>\n",
       "    <tr>\n",
       "      <th>4</th>\n",
       "      <td>No</td>\n",
       "      <td>No</td>\n",
       "      <td>3.8</td>\n",
       "      <td>166</td>\n",
       "      <td>600.0</td>\n",
       "      <td>Buffet</td>\n",
       "    </tr>\n",
       "  </tbody>\n",
       "</table>\n",
       "</div>"
      ],
      "text/plain": [
       "  online_order book_table  rate  votes  approx_cost(for two people)  \\\n",
       "0          Yes        Yes   4.1    775                        800.0   \n",
       "1          Yes         No   4.1    787                        800.0   \n",
       "2          Yes         No   3.8    918                        800.0   \n",
       "3           No         No   3.7     88                        300.0   \n",
       "4           No         No   3.8    166                        600.0   \n",
       "\n",
       "  listed_in(type)  \n",
       "0          Buffet  \n",
       "1          Buffet  \n",
       "2          Buffet  \n",
       "3          Buffet  \n",
       "4          Buffet  "
      ]
     },
     "execution_count": 16,
     "metadata": {},
     "output_type": "execute_result"
    }
   ],
   "source": [
    "df2.head()"
   ]
  },
  {
   "cell_type": "markdown",
   "id": "b9cc88af",
   "metadata": {
    "papermill": {
     "duration": 0.021388,
     "end_time": "2023-02-15T14:24:12.270616",
     "exception": false,
     "start_time": "2023-02-15T14:24:12.249228",
     "status": "completed"
    },
    "tags": []
   },
   "source": [
    "The below new DF is for later, where I'll visualize the ratings of different types of restaurants."
   ]
  },
  {
   "cell_type": "code",
   "execution_count": 17,
   "id": "e47a610e",
   "metadata": {
    "execution": {
     "iopub.execute_input": "2023-02-15T14:24:12.313820Z",
     "iopub.status.busy": "2023-02-15T14:24:12.313359Z",
     "iopub.status.idle": "2023-02-15T14:24:12.320490Z",
     "shell.execute_reply": "2023-02-15T14:24:12.318816Z"
    },
    "papermill": {
     "duration": 0.032118,
     "end_time": "2023-02-15T14:24:12.323376",
     "exception": false,
     "start_time": "2023-02-15T14:24:12.291258",
     "status": "completed"
    },
    "tags": []
   },
   "outputs": [],
   "source": [
    "df3 = df2.copy()"
   ]
  },
  {
   "cell_type": "markdown",
   "id": "bf6758b7",
   "metadata": {
    "papermill": {
     "duration": 0.020774,
     "end_time": "2023-02-15T14:24:12.365428",
     "exception": false,
     "start_time": "2023-02-15T14:24:12.344654",
     "status": "completed"
    },
    "tags": []
   },
   "source": [
    "**Further Data Preparation**\n",
    "\n",
    "Now, I want to turn some of our categorical data into numerical values to help our learning model later."
   ]
  },
  {
   "cell_type": "code",
   "execution_count": 18,
   "id": "0990ed7c",
   "metadata": {
    "execution": {
     "iopub.execute_input": "2023-02-15T14:24:12.408706Z",
     "iopub.status.busy": "2023-02-15T14:24:12.408298Z",
     "iopub.status.idle": "2023-02-15T14:24:12.437197Z",
     "shell.execute_reply": "2023-02-15T14:24:12.436100Z"
    },
    "papermill": {
     "duration": 0.053228,
     "end_time": "2023-02-15T14:24:12.439666",
     "exception": false,
     "start_time": "2023-02-15T14:24:12.386438",
     "status": "completed"
    },
    "tags": []
   },
   "outputs": [
    {
     "data": {
      "text/html": [
       "<div>\n",
       "<style scoped>\n",
       "    .dataframe tbody tr th:only-of-type {\n",
       "        vertical-align: middle;\n",
       "    }\n",
       "\n",
       "    .dataframe tbody tr th {\n",
       "        vertical-align: top;\n",
       "    }\n",
       "\n",
       "    .dataframe thead th {\n",
       "        text-align: right;\n",
       "    }\n",
       "</style>\n",
       "<table border=\"1\" class=\"dataframe\">\n",
       "  <thead>\n",
       "    <tr style=\"text-align: right;\">\n",
       "      <th></th>\n",
       "      <th>rate</th>\n",
       "      <th>votes</th>\n",
       "      <th>approx_cost(for two people)</th>\n",
       "      <th>online_order_No</th>\n",
       "      <th>online_order_Yes</th>\n",
       "      <th>book_table_No</th>\n",
       "      <th>book_table_Yes</th>\n",
       "      <th>listed_in(type)_Buffet</th>\n",
       "      <th>listed_in(type)_Cafes</th>\n",
       "      <th>listed_in(type)_Delivery</th>\n",
       "      <th>listed_in(type)_Desserts</th>\n",
       "      <th>listed_in(type)_Dine-out</th>\n",
       "      <th>listed_in(type)_Drinks &amp; nightlife</th>\n",
       "      <th>listed_in(type)_Pubs and bars</th>\n",
       "    </tr>\n",
       "  </thead>\n",
       "  <tbody>\n",
       "    <tr>\n",
       "      <th>0</th>\n",
       "      <td>4.1</td>\n",
       "      <td>775</td>\n",
       "      <td>800.0</td>\n",
       "      <td>0</td>\n",
       "      <td>1</td>\n",
       "      <td>0</td>\n",
       "      <td>1</td>\n",
       "      <td>1</td>\n",
       "      <td>0</td>\n",
       "      <td>0</td>\n",
       "      <td>0</td>\n",
       "      <td>0</td>\n",
       "      <td>0</td>\n",
       "      <td>0</td>\n",
       "    </tr>\n",
       "    <tr>\n",
       "      <th>1</th>\n",
       "      <td>4.1</td>\n",
       "      <td>787</td>\n",
       "      <td>800.0</td>\n",
       "      <td>0</td>\n",
       "      <td>1</td>\n",
       "      <td>1</td>\n",
       "      <td>0</td>\n",
       "      <td>1</td>\n",
       "      <td>0</td>\n",
       "      <td>0</td>\n",
       "      <td>0</td>\n",
       "      <td>0</td>\n",
       "      <td>0</td>\n",
       "      <td>0</td>\n",
       "    </tr>\n",
       "    <tr>\n",
       "      <th>2</th>\n",
       "      <td>3.8</td>\n",
       "      <td>918</td>\n",
       "      <td>800.0</td>\n",
       "      <td>0</td>\n",
       "      <td>1</td>\n",
       "      <td>1</td>\n",
       "      <td>0</td>\n",
       "      <td>1</td>\n",
       "      <td>0</td>\n",
       "      <td>0</td>\n",
       "      <td>0</td>\n",
       "      <td>0</td>\n",
       "      <td>0</td>\n",
       "      <td>0</td>\n",
       "    </tr>\n",
       "    <tr>\n",
       "      <th>3</th>\n",
       "      <td>3.7</td>\n",
       "      <td>88</td>\n",
       "      <td>300.0</td>\n",
       "      <td>1</td>\n",
       "      <td>0</td>\n",
       "      <td>1</td>\n",
       "      <td>0</td>\n",
       "      <td>1</td>\n",
       "      <td>0</td>\n",
       "      <td>0</td>\n",
       "      <td>0</td>\n",
       "      <td>0</td>\n",
       "      <td>0</td>\n",
       "      <td>0</td>\n",
       "    </tr>\n",
       "    <tr>\n",
       "      <th>4</th>\n",
       "      <td>3.8</td>\n",
       "      <td>166</td>\n",
       "      <td>600.0</td>\n",
       "      <td>1</td>\n",
       "      <td>0</td>\n",
       "      <td>1</td>\n",
       "      <td>0</td>\n",
       "      <td>1</td>\n",
       "      <td>0</td>\n",
       "      <td>0</td>\n",
       "      <td>0</td>\n",
       "      <td>0</td>\n",
       "      <td>0</td>\n",
       "      <td>0</td>\n",
       "    </tr>\n",
       "  </tbody>\n",
       "</table>\n",
       "</div>"
      ],
      "text/plain": [
       "   rate  votes  approx_cost(for two people)  online_order_No  \\\n",
       "0   4.1    775                        800.0                0   \n",
       "1   4.1    787                        800.0                0   \n",
       "2   3.8    918                        800.0                0   \n",
       "3   3.7     88                        300.0                1   \n",
       "4   3.8    166                        600.0                1   \n",
       "\n",
       "   online_order_Yes  book_table_No  book_table_Yes  listed_in(type)_Buffet  \\\n",
       "0                 1              0               1                       1   \n",
       "1                 1              1               0                       1   \n",
       "2                 1              1               0                       1   \n",
       "3                 0              1               0                       1   \n",
       "4                 0              1               0                       1   \n",
       "\n",
       "   listed_in(type)_Cafes  listed_in(type)_Delivery  listed_in(type)_Desserts  \\\n",
       "0                      0                         0                         0   \n",
       "1                      0                         0                         0   \n",
       "2                      0                         0                         0   \n",
       "3                      0                         0                         0   \n",
       "4                      0                         0                         0   \n",
       "\n",
       "   listed_in(type)_Dine-out  listed_in(type)_Drinks & nightlife  \\\n",
       "0                         0                                   0   \n",
       "1                         0                                   0   \n",
       "2                         0                                   0   \n",
       "3                         0                                   0   \n",
       "4                         0                                   0   \n",
       "\n",
       "   listed_in(type)_Pubs and bars  \n",
       "0                              0  \n",
       "1                              0  \n",
       "2                              0  \n",
       "3                              0  \n",
       "4                              0  "
      ]
     },
     "execution_count": 18,
     "metadata": {},
     "output_type": "execute_result"
    }
   ],
   "source": [
    "df2 = pd.get_dummies(df2, columns=[\"online_order\", \"book_table\", \"listed_in(type)\"])\n",
    "df2.head()"
   ]
  },
  {
   "cell_type": "markdown",
   "id": "996eaa92",
   "metadata": {
    "papermill": {
     "duration": 0.020661,
     "end_time": "2023-02-15T14:24:12.481331",
     "exception": false,
     "start_time": "2023-02-15T14:24:12.460670",
     "status": "completed"
    },
    "tags": []
   },
   "source": [
    "We will also normalize our votes and cost columns to 1:"
   ]
  },
  {
   "cell_type": "code",
   "execution_count": 19,
   "id": "1a000a60",
   "metadata": {
    "execution": {
     "iopub.execute_input": "2023-02-15T14:24:12.521635Z",
     "iopub.status.busy": "2023-02-15T14:24:12.521295Z",
     "iopub.status.idle": "2023-02-15T14:24:12.528026Z",
     "shell.execute_reply": "2023-02-15T14:24:12.526736Z"
    },
    "papermill": {
     "duration": 0.029666,
     "end_time": "2023-02-15T14:24:12.530372",
     "exception": false,
     "start_time": "2023-02-15T14:24:12.500706",
     "status": "completed"
    },
    "tags": []
   },
   "outputs": [],
   "source": [
    "df2[\"approx_cost(for two people)\"] = df2[\"approx_cost(for two people)\"] / df2[\"approx_cost(for two people)\"].max()\n",
    "df2[\"votes\"] = df2[\"votes\"] / df2[\"votes\"].max()"
   ]
  },
  {
   "cell_type": "code",
   "execution_count": 20,
   "id": "b6ed8eb3",
   "metadata": {
    "execution": {
     "iopub.execute_input": "2023-02-15T14:24:12.573703Z",
     "iopub.status.busy": "2023-02-15T14:24:12.573392Z",
     "iopub.status.idle": "2023-02-15T14:24:12.587922Z",
     "shell.execute_reply": "2023-02-15T14:24:12.586504Z"
    },
    "papermill": {
     "duration": 0.038829,
     "end_time": "2023-02-15T14:24:12.590463",
     "exception": false,
     "start_time": "2023-02-15T14:24:12.551634",
     "status": "completed"
    },
    "tags": []
   },
   "outputs": [
    {
     "data": {
      "text/html": [
       "<div>\n",
       "<style scoped>\n",
       "    .dataframe tbody tr th:only-of-type {\n",
       "        vertical-align: middle;\n",
       "    }\n",
       "\n",
       "    .dataframe tbody tr th {\n",
       "        vertical-align: top;\n",
       "    }\n",
       "\n",
       "    .dataframe thead th {\n",
       "        text-align: right;\n",
       "    }\n",
       "</style>\n",
       "<table border=\"1\" class=\"dataframe\">\n",
       "  <thead>\n",
       "    <tr style=\"text-align: right;\">\n",
       "      <th></th>\n",
       "      <th>rate</th>\n",
       "      <th>votes</th>\n",
       "      <th>approx_cost(for two people)</th>\n",
       "      <th>online_order_No</th>\n",
       "      <th>online_order_Yes</th>\n",
       "      <th>book_table_No</th>\n",
       "      <th>book_table_Yes</th>\n",
       "      <th>listed_in(type)_Buffet</th>\n",
       "      <th>listed_in(type)_Cafes</th>\n",
       "      <th>listed_in(type)_Delivery</th>\n",
       "      <th>listed_in(type)_Desserts</th>\n",
       "      <th>listed_in(type)_Dine-out</th>\n",
       "      <th>listed_in(type)_Drinks &amp; nightlife</th>\n",
       "      <th>listed_in(type)_Pubs and bars</th>\n",
       "    </tr>\n",
       "  </thead>\n",
       "  <tbody>\n",
       "    <tr>\n",
       "      <th>0</th>\n",
       "      <td>4.1</td>\n",
       "      <td>0.046043</td>\n",
       "      <td>0.133333</td>\n",
       "      <td>0</td>\n",
       "      <td>1</td>\n",
       "      <td>0</td>\n",
       "      <td>1</td>\n",
       "      <td>1</td>\n",
       "      <td>0</td>\n",
       "      <td>0</td>\n",
       "      <td>0</td>\n",
       "      <td>0</td>\n",
       "      <td>0</td>\n",
       "      <td>0</td>\n",
       "    </tr>\n",
       "    <tr>\n",
       "      <th>1</th>\n",
       "      <td>4.1</td>\n",
       "      <td>0.046756</td>\n",
       "      <td>0.133333</td>\n",
       "      <td>0</td>\n",
       "      <td>1</td>\n",
       "      <td>1</td>\n",
       "      <td>0</td>\n",
       "      <td>1</td>\n",
       "      <td>0</td>\n",
       "      <td>0</td>\n",
       "      <td>0</td>\n",
       "      <td>0</td>\n",
       "      <td>0</td>\n",
       "      <td>0</td>\n",
       "    </tr>\n",
       "    <tr>\n",
       "      <th>2</th>\n",
       "      <td>3.8</td>\n",
       "      <td>0.054539</td>\n",
       "      <td>0.133333</td>\n",
       "      <td>0</td>\n",
       "      <td>1</td>\n",
       "      <td>1</td>\n",
       "      <td>0</td>\n",
       "      <td>1</td>\n",
       "      <td>0</td>\n",
       "      <td>0</td>\n",
       "      <td>0</td>\n",
       "      <td>0</td>\n",
       "      <td>0</td>\n",
       "      <td>0</td>\n",
       "    </tr>\n",
       "    <tr>\n",
       "      <th>3</th>\n",
       "      <td>3.7</td>\n",
       "      <td>0.005228</td>\n",
       "      <td>0.050000</td>\n",
       "      <td>1</td>\n",
       "      <td>0</td>\n",
       "      <td>1</td>\n",
       "      <td>0</td>\n",
       "      <td>1</td>\n",
       "      <td>0</td>\n",
       "      <td>0</td>\n",
       "      <td>0</td>\n",
       "      <td>0</td>\n",
       "      <td>0</td>\n",
       "      <td>0</td>\n",
       "    </tr>\n",
       "    <tr>\n",
       "      <th>4</th>\n",
       "      <td>3.8</td>\n",
       "      <td>0.009862</td>\n",
       "      <td>0.100000</td>\n",
       "      <td>1</td>\n",
       "      <td>0</td>\n",
       "      <td>1</td>\n",
       "      <td>0</td>\n",
       "      <td>1</td>\n",
       "      <td>0</td>\n",
       "      <td>0</td>\n",
       "      <td>0</td>\n",
       "      <td>0</td>\n",
       "      <td>0</td>\n",
       "      <td>0</td>\n",
       "    </tr>\n",
       "  </tbody>\n",
       "</table>\n",
       "</div>"
      ],
      "text/plain": [
       "   rate     votes  approx_cost(for two people)  online_order_No  \\\n",
       "0   4.1  0.046043                     0.133333                0   \n",
       "1   4.1  0.046756                     0.133333                0   \n",
       "2   3.8  0.054539                     0.133333                0   \n",
       "3   3.7  0.005228                     0.050000                1   \n",
       "4   3.8  0.009862                     0.100000                1   \n",
       "\n",
       "   online_order_Yes  book_table_No  book_table_Yes  listed_in(type)_Buffet  \\\n",
       "0                 1              0               1                       1   \n",
       "1                 1              1               0                       1   \n",
       "2                 1              1               0                       1   \n",
       "3                 0              1               0                       1   \n",
       "4                 0              1               0                       1   \n",
       "\n",
       "   listed_in(type)_Cafes  listed_in(type)_Delivery  listed_in(type)_Desserts  \\\n",
       "0                      0                         0                         0   \n",
       "1                      0                         0                         0   \n",
       "2                      0                         0                         0   \n",
       "3                      0                         0                         0   \n",
       "4                      0                         0                         0   \n",
       "\n",
       "   listed_in(type)_Dine-out  listed_in(type)_Drinks & nightlife  \\\n",
       "0                         0                                   0   \n",
       "1                         0                                   0   \n",
       "2                         0                                   0   \n",
       "3                         0                                   0   \n",
       "4                         0                                   0   \n",
       "\n",
       "   listed_in(type)_Pubs and bars  \n",
       "0                              0  \n",
       "1                              0  \n",
       "2                              0  \n",
       "3                              0  \n",
       "4                              0  "
      ]
     },
     "execution_count": 20,
     "metadata": {},
     "output_type": "execute_result"
    }
   ],
   "source": [
    "df2.head()"
   ]
  },
  {
   "cell_type": "markdown",
   "id": "3f3eeca7",
   "metadata": {
    "papermill": {
     "duration": 0.023162,
     "end_time": "2023-02-15T14:24:12.635793",
     "exception": false,
     "start_time": "2023-02-15T14:24:12.612631",
     "status": "completed"
    },
    "tags": []
   },
   "source": [
    "Now we essentially have our polished data - with all the votes and costs normalized to 1 and as floats, ratings are floats, and all the categorical data has been converted into 1s and 0s."
   ]
  },
  {
   "cell_type": "code",
   "execution_count": 21,
   "id": "2e032ece",
   "metadata": {
    "execution": {
     "iopub.execute_input": "2023-02-15T14:24:12.680480Z",
     "iopub.status.busy": "2023-02-15T14:24:12.680119Z",
     "iopub.status.idle": "2023-02-15T14:24:12.734872Z",
     "shell.execute_reply": "2023-02-15T14:24:12.733091Z"
    },
    "papermill": {
     "duration": 0.079583,
     "end_time": "2023-02-15T14:24:12.737560",
     "exception": false,
     "start_time": "2023-02-15T14:24:12.657977",
     "status": "completed"
    },
    "tags": []
   },
   "outputs": [
    {
     "data": {
      "text/html": [
       "<div>\n",
       "<style scoped>\n",
       "    .dataframe tbody tr th:only-of-type {\n",
       "        vertical-align: middle;\n",
       "    }\n",
       "\n",
       "    .dataframe tbody tr th {\n",
       "        vertical-align: top;\n",
       "    }\n",
       "\n",
       "    .dataframe thead th {\n",
       "        text-align: right;\n",
       "    }\n",
       "</style>\n",
       "<table border=\"1\" class=\"dataframe\">\n",
       "  <thead>\n",
       "    <tr style=\"text-align: right;\">\n",
       "      <th></th>\n",
       "      <th>rate</th>\n",
       "      <th>votes</th>\n",
       "      <th>approx_cost(for two people)</th>\n",
       "      <th>online_order_No</th>\n",
       "      <th>online_order_Yes</th>\n",
       "      <th>book_table_No</th>\n",
       "      <th>book_table_Yes</th>\n",
       "      <th>listed_in(type)_Buffet</th>\n",
       "      <th>listed_in(type)_Cafes</th>\n",
       "      <th>listed_in(type)_Delivery</th>\n",
       "      <th>listed_in(type)_Desserts</th>\n",
       "      <th>listed_in(type)_Dine-out</th>\n",
       "      <th>listed_in(type)_Drinks &amp; nightlife</th>\n",
       "      <th>listed_in(type)_Pubs and bars</th>\n",
       "    </tr>\n",
       "  </thead>\n",
       "  <tbody>\n",
       "    <tr>\n",
       "      <th>count</th>\n",
       "      <td>23046.000000</td>\n",
       "      <td>23046.000000</td>\n",
       "      <td>23046.000000</td>\n",
       "      <td>23046.000000</td>\n",
       "      <td>23046.000000</td>\n",
       "      <td>23046.000000</td>\n",
       "      <td>23046.000000</td>\n",
       "      <td>23046.000000</td>\n",
       "      <td>23046.000000</td>\n",
       "      <td>23046.000000</td>\n",
       "      <td>23046.000000</td>\n",
       "      <td>23046.000000</td>\n",
       "      <td>23046.000000</td>\n",
       "      <td>23046.000000</td>\n",
       "    </tr>\n",
       "    <tr>\n",
       "      <th>mean</th>\n",
       "      <td>3.904383</td>\n",
       "      <td>0.035938</td>\n",
       "      <td>0.125717</td>\n",
       "      <td>0.292849</td>\n",
       "      <td>0.707151</td>\n",
       "      <td>0.737872</td>\n",
       "      <td>0.262128</td>\n",
       "      <td>0.032674</td>\n",
       "      <td>0.045387</td>\n",
       "      <td>0.458865</td>\n",
       "      <td>0.057711</td>\n",
       "      <td>0.345136</td>\n",
       "      <td>0.037794</td>\n",
       "      <td>0.022433</td>\n",
       "    </tr>\n",
       "    <tr>\n",
       "      <th>std</th>\n",
       "      <td>0.426365</td>\n",
       "      <td>0.066383</td>\n",
       "      <td>0.086923</td>\n",
       "      <td>0.455080</td>\n",
       "      <td>0.455080</td>\n",
       "      <td>0.439801</td>\n",
       "      <td>0.439801</td>\n",
       "      <td>0.177785</td>\n",
       "      <td>0.208157</td>\n",
       "      <td>0.498316</td>\n",
       "      <td>0.233201</td>\n",
       "      <td>0.475423</td>\n",
       "      <td>0.190702</td>\n",
       "      <td>0.148091</td>\n",
       "    </tr>\n",
       "    <tr>\n",
       "      <th>min</th>\n",
       "      <td>1.800000</td>\n",
       "      <td>0.000000</td>\n",
       "      <td>0.006667</td>\n",
       "      <td>0.000000</td>\n",
       "      <td>0.000000</td>\n",
       "      <td>0.000000</td>\n",
       "      <td>0.000000</td>\n",
       "      <td>0.000000</td>\n",
       "      <td>0.000000</td>\n",
       "      <td>0.000000</td>\n",
       "      <td>0.000000</td>\n",
       "      <td>0.000000</td>\n",
       "      <td>0.000000</td>\n",
       "      <td>0.000000</td>\n",
       "    </tr>\n",
       "    <tr>\n",
       "      <th>25%</th>\n",
       "      <td>3.800000</td>\n",
       "      <td>0.006119</td>\n",
       "      <td>0.066667</td>\n",
       "      <td>0.000000</td>\n",
       "      <td>0.000000</td>\n",
       "      <td>0.000000</td>\n",
       "      <td>0.000000</td>\n",
       "      <td>0.000000</td>\n",
       "      <td>0.000000</td>\n",
       "      <td>0.000000</td>\n",
       "      <td>0.000000</td>\n",
       "      <td>0.000000</td>\n",
       "      <td>0.000000</td>\n",
       "      <td>0.000000</td>\n",
       "    </tr>\n",
       "    <tr>\n",
       "      <th>50%</th>\n",
       "      <td>4.000000</td>\n",
       "      <td>0.013308</td>\n",
       "      <td>0.100000</td>\n",
       "      <td>0.000000</td>\n",
       "      <td>1.000000</td>\n",
       "      <td>1.000000</td>\n",
       "      <td>0.000000</td>\n",
       "      <td>0.000000</td>\n",
       "      <td>0.000000</td>\n",
       "      <td>0.000000</td>\n",
       "      <td>0.000000</td>\n",
       "      <td>0.000000</td>\n",
       "      <td>0.000000</td>\n",
       "      <td>0.000000</td>\n",
       "    </tr>\n",
       "    <tr>\n",
       "      <th>75%</th>\n",
       "      <td>4.200000</td>\n",
       "      <td>0.035112</td>\n",
       "      <td>0.166667</td>\n",
       "      <td>1.000000</td>\n",
       "      <td>1.000000</td>\n",
       "      <td>1.000000</td>\n",
       "      <td>1.000000</td>\n",
       "      <td>0.000000</td>\n",
       "      <td>0.000000</td>\n",
       "      <td>1.000000</td>\n",
       "      <td>0.000000</td>\n",
       "      <td>1.000000</td>\n",
       "      <td>0.000000</td>\n",
       "      <td>0.000000</td>\n",
       "    </tr>\n",
       "    <tr>\n",
       "      <th>max</th>\n",
       "      <td>4.900000</td>\n",
       "      <td>1.000000</td>\n",
       "      <td>1.000000</td>\n",
       "      <td>1.000000</td>\n",
       "      <td>1.000000</td>\n",
       "      <td>1.000000</td>\n",
       "      <td>1.000000</td>\n",
       "      <td>1.000000</td>\n",
       "      <td>1.000000</td>\n",
       "      <td>1.000000</td>\n",
       "      <td>1.000000</td>\n",
       "      <td>1.000000</td>\n",
       "      <td>1.000000</td>\n",
       "      <td>1.000000</td>\n",
       "    </tr>\n",
       "  </tbody>\n",
       "</table>\n",
       "</div>"
      ],
      "text/plain": [
       "               rate         votes  approx_cost(for two people)  \\\n",
       "count  23046.000000  23046.000000                 23046.000000   \n",
       "mean       3.904383      0.035938                     0.125717   \n",
       "std        0.426365      0.066383                     0.086923   \n",
       "min        1.800000      0.000000                     0.006667   \n",
       "25%        3.800000      0.006119                     0.066667   \n",
       "50%        4.000000      0.013308                     0.100000   \n",
       "75%        4.200000      0.035112                     0.166667   \n",
       "max        4.900000      1.000000                     1.000000   \n",
       "\n",
       "       online_order_No  online_order_Yes  book_table_No  book_table_Yes  \\\n",
       "count     23046.000000      23046.000000   23046.000000    23046.000000   \n",
       "mean          0.292849          0.707151       0.737872        0.262128   \n",
       "std           0.455080          0.455080       0.439801        0.439801   \n",
       "min           0.000000          0.000000       0.000000        0.000000   \n",
       "25%           0.000000          0.000000       0.000000        0.000000   \n",
       "50%           0.000000          1.000000       1.000000        0.000000   \n",
       "75%           1.000000          1.000000       1.000000        1.000000   \n",
       "max           1.000000          1.000000       1.000000        1.000000   \n",
       "\n",
       "       listed_in(type)_Buffet  listed_in(type)_Cafes  \\\n",
       "count            23046.000000           23046.000000   \n",
       "mean                 0.032674               0.045387   \n",
       "std                  0.177785               0.208157   \n",
       "min                  0.000000               0.000000   \n",
       "25%                  0.000000               0.000000   \n",
       "50%                  0.000000               0.000000   \n",
       "75%                  0.000000               0.000000   \n",
       "max                  1.000000               1.000000   \n",
       "\n",
       "       listed_in(type)_Delivery  listed_in(type)_Desserts  \\\n",
       "count              23046.000000              23046.000000   \n",
       "mean                   0.458865                  0.057711   \n",
       "std                    0.498316                  0.233201   \n",
       "min                    0.000000                  0.000000   \n",
       "25%                    0.000000                  0.000000   \n",
       "50%                    0.000000                  0.000000   \n",
       "75%                    1.000000                  0.000000   \n",
       "max                    1.000000                  1.000000   \n",
       "\n",
       "       listed_in(type)_Dine-out  listed_in(type)_Drinks & nightlife  \\\n",
       "count              23046.000000                        23046.000000   \n",
       "mean                   0.345136                            0.037794   \n",
       "std                    0.475423                            0.190702   \n",
       "min                    0.000000                            0.000000   \n",
       "25%                    0.000000                            0.000000   \n",
       "50%                    0.000000                            0.000000   \n",
       "75%                    1.000000                            0.000000   \n",
       "max                    1.000000                            1.000000   \n",
       "\n",
       "       listed_in(type)_Pubs and bars  \n",
       "count                   23046.000000  \n",
       "mean                        0.022433  \n",
       "std                         0.148091  \n",
       "min                         0.000000  \n",
       "25%                         0.000000  \n",
       "50%                         0.000000  \n",
       "75%                         0.000000  \n",
       "max                         1.000000  "
      ]
     },
     "execution_count": 21,
     "metadata": {},
     "output_type": "execute_result"
    }
   ],
   "source": [
    "df2.describe()"
   ]
  },
  {
   "cell_type": "markdown",
   "id": "4be05c5c",
   "metadata": {
    "papermill": {
     "duration": 0.021277,
     "end_time": "2023-02-15T14:24:12.780345",
     "exception": false,
     "start_time": "2023-02-15T14:24:12.759068",
     "status": "completed"
    },
    "tags": []
   },
   "source": [
    "**Analysis**\n",
    "\n",
    "Now we can start to process it.\n",
    "We can begin with a heat map as shown below to view correlations between variables. A few of these seem logical, like that if you can book a table the cost and ratings are likely to be higher. But most of these have relatively low correlations which is good."
   ]
  },
  {
   "cell_type": "code",
   "execution_count": 22,
   "id": "ad017dd4",
   "metadata": {
    "execution": {
     "iopub.execute_input": "2023-02-15T14:24:12.825088Z",
     "iopub.status.busy": "2023-02-15T14:24:12.824688Z",
     "iopub.status.idle": "2023-02-15T14:24:13.764119Z",
     "shell.execute_reply": "2023-02-15T14:24:13.762814Z"
    },
    "papermill": {
     "duration": 0.963316,
     "end_time": "2023-02-15T14:24:13.766260",
     "exception": false,
     "start_time": "2023-02-15T14:24:12.802944",
     "status": "completed"
    },
    "tags": []
   },
   "outputs": [
    {
     "data": {
      "text/plain": [
       "Text(104.09374999999999, 0.5, 'Variables')"
      ]
     },
     "execution_count": 22,
     "metadata": {},
     "output_type": "execute_result"
    },
    {
     "data": {
      "image/png": "[encoded data removed]",
      "text/plain": [
       "<Figure size 1008x504 with 2 Axes>"
      ]
     },
     "metadata": {
      "needs_background": "light"
     },
     "output_type": "display_data"
    }
   ],
   "source": [
    "correlation = df2.corr().round(2)\n",
    "plt.figure(figsize = (14,7))\n",
    "sns.heatmap(correlation, annot = True, cmap = 'YlOrBr')\n",
    "plt.title(\"Heatmap for df2\")\n",
    "plt.xlabel(\"Variables\")\n",
    "plt.ylabel(\"Variables\")"
   ]
  },
  {
   "cell_type": "markdown",
   "id": "1723344a",
   "metadata": {
    "papermill": {
     "duration": 0.02187,
     "end_time": "2023-02-15T14:24:13.812508",
     "exception": false,
     "start_time": "2023-02-15T14:24:13.790638",
     "status": "completed"
    },
    "tags": []
   },
   "source": [
    "**Modeling With Random Forests**\n",
    "\n",
    "We will then separate our data into independent and dependent sets:"
   ]
  },
  {
   "cell_type": "code",
   "execution_count": 23,
   "id": "0eccd4cf",
   "metadata": {
    "execution": {
     "iopub.execute_input": "2023-02-15T14:24:13.859330Z",
     "iopub.status.busy": "2023-02-15T14:24:13.859013Z",
     "iopub.status.idle": "2023-02-15T14:24:13.868905Z",
     "shell.execute_reply": "2023-02-15T14:24:13.866948Z"
    },
    "papermill": {
     "duration": 0.035712,
     "end_time": "2023-02-15T14:24:13.871365",
     "exception": false,
     "start_time": "2023-02-15T14:24:13.835653",
     "status": "completed"
    },
    "tags": []
   },
   "outputs": [
    {
     "name": "stdout",
     "output_type": "stream",
     "text": [
      "0        4.1\n",
      "1        4.1\n",
      "2        3.8\n",
      "3        3.7\n",
      "4        3.8\n",
      "        ... \n",
      "23041    3.8\n",
      "23042    3.9\n",
      "23043    2.8\n",
      "23044    2.5\n",
      "23045    4.3\n",
      "Name: rate, Length: 23046, dtype: object\n"
     ]
    }
   ],
   "source": [
    "X = df2.drop(\"rate\", axis=1) #taking the whole df2 without ratings (so all indpt variables)\n",
    "X = X.values #the variable X contains a df so here we convert it to an array\n",
    "#this is because learning algorithms tend to work with arrays and not dfs.\n",
    "\n",
    "Y = df[\"rate\"] #taking our dependent variable.\n",
    "print(Y)"
   ]
  },
  {
   "cell_type": "markdown",
   "id": "e20daea7",
   "metadata": {
    "papermill": {
     "duration": 0.022422,
     "end_time": "2023-02-15T14:24:13.916443",
     "exception": false,
     "start_time": "2023-02-15T14:24:13.894021",
     "status": "completed"
    },
    "tags": []
   },
   "source": [
    "Creating a training and validation set:"
   ]
  },
  {
   "cell_type": "code",
   "execution_count": 24,
   "id": "de2dc7ac",
   "metadata": {
    "execution": {
     "iopub.execute_input": "2023-02-15T14:24:13.964418Z",
     "iopub.status.busy": "2023-02-15T14:24:13.964004Z",
     "iopub.status.idle": "2023-02-15T14:24:14.221380Z",
     "shell.execute_reply": "2023-02-15T14:24:14.220052Z"
    },
    "papermill": {
     "duration": 0.284627,
     "end_time": "2023-02-15T14:24:14.223885",
     "exception": false,
     "start_time": "2023-02-15T14:24:13.939258",
     "status": "completed"
    },
    "tags": []
   },
   "outputs": [],
   "source": [
    "from sklearn.model_selection import train_test_split\n",
    "X_train,X_test, Y_train, Y_test = train_test_split(X, Y, test_size = 0.3, random_state = 0)"
   ]
  },
  {
   "cell_type": "markdown",
   "id": "eeb5ff8c",
   "metadata": {
    "papermill": {
     "duration": 0.022104,
     "end_time": "2023-02-15T14:24:14.269494",
     "exception": false,
     "start_time": "2023-02-15T14:24:14.247390",
     "status": "completed"
    },
    "tags": []
   },
   "source": [
    "Implenting a Random Forest model"
   ]
  },
  {
   "cell_type": "code",
   "execution_count": 25,
   "id": "20fb2e31",
   "metadata": {
    "execution": {
     "iopub.execute_input": "2023-02-15T14:24:14.317626Z",
     "iopub.status.busy": "2023-02-15T14:24:14.317287Z",
     "iopub.status.idle": "2023-02-15T14:24:17.771530Z",
     "shell.execute_reply": "2023-02-15T14:24:17.770638Z"
    },
    "papermill": {
     "duration": 3.480162,
     "end_time": "2023-02-15T14:24:17.773355",
     "exception": false,
     "start_time": "2023-02-15T14:24:14.293193",
     "status": "completed"
    },
    "tags": []
   },
   "outputs": [
    {
     "name": "stdout",
     "output_type": "stream",
     "text": [
      "MSE: 0.06911422542927614\n"
     ]
    }
   ],
   "source": [
    "from sklearn.ensemble import RandomForestRegressor\n",
    "\n",
    "model1 = RandomForestRegressor(n_estimators=100)\n",
    "\n",
    "# Fit the model to the training data\n",
    "model1.fit(X_train, Y_train)\n",
    "\n",
    "# Use the model to make predictions on the test data\n",
    "Y_pred = model1.predict(X_test)\n",
    "\n",
    "# Evaluate the model using mean squared error (MSE)\n",
    "from sklearn.metrics import mean_squared_error\n",
    "print(\"MSE:\", mean_squared_error(Y_test, Y_pred))"
   ]
  },
  {
   "cell_type": "markdown",
   "id": "213e5ad6",
   "metadata": {
    "papermill": {
     "duration": 0.021919,
     "end_time": "2023-02-15T14:24:17.818029",
     "exception": false,
     "start_time": "2023-02-15T14:24:17.796110",
     "status": "completed"
    },
    "tags": []
   },
   "source": [
    "Our MSE is very low, great!.\n",
    "Checking the weights of the different independent variables:"
   ]
  },
  {
   "cell_type": "code",
   "execution_count": 26,
   "id": "076e48ae",
   "metadata": {
    "execution": {
     "iopub.execute_input": "2023-02-15T14:24:17.865090Z",
     "iopub.status.busy": "2023-02-15T14:24:17.864694Z",
     "iopub.status.idle": "2023-02-15T14:24:17.893705Z",
     "shell.execute_reply": "2023-02-15T14:24:17.892502Z"
    },
    "papermill": {
     "duration": 0.055329,
     "end_time": "2023-02-15T14:24:17.895750",
     "exception": false,
     "start_time": "2023-02-15T14:24:17.840421",
     "status": "completed"
    },
    "tags": []
   },
   "outputs": [
    {
     "name": "stdout",
     "output_type": "stream",
     "text": [
      "Feature importances: [0.66320454 0.20627129 0.01602756 0.01507193 0.00387581 0.03640756\n",
      " 0.00419811 0.00948218 0.01287457 0.01679561 0.01309613 0.00185924\n",
      " 0.00083547]\n"
     ]
    }
   ],
   "source": [
    "importances1 = model1.feature_importances_\n",
    "\n",
    "# Print the feature importances\n",
    "print(\"Feature importances:\", importances1)"
   ]
  },
  {
   "cell_type": "code",
   "execution_count": 27,
   "id": "720149fb",
   "metadata": {
    "execution": {
     "iopub.execute_input": "2023-02-15T14:24:17.942732Z",
     "iopub.status.busy": "2023-02-15T14:24:17.942401Z",
     "iopub.status.idle": "2023-02-15T14:24:18.149538Z",
     "shell.execute_reply": "2023-02-15T14:24:18.148006Z"
    },
    "papermill": {
     "duration": 0.233112,
     "end_time": "2023-02-15T14:24:18.151624",
     "exception": false,
     "start_time": "2023-02-15T14:24:17.918512",
     "status": "completed"
    },
    "tags": []
   },
   "outputs": [
    {
     "data": {
      "image/png": "[encoded data removed]",
      "text/plain": [
       "<Figure size 432x288 with 1 Axes>"
      ]
     },
     "metadata": {
      "needs_background": "light"
     },
     "output_type": "display_data"
    }
   ],
   "source": [
    "# Plot the feature importances\n",
    "import matplotlib.pyplot as plt\n",
    "\n",
    "plt.bar(df2.drop(\"rate\", axis=1).columns, importances1)\n",
    "plt.xlabel(\"Independent variables\")\n",
    "plt.ylabel(\"Importance\")\n",
    "plt.xticks(rotation=90)\n",
    "plt.title(\"Importance of X variables\")\n",
    "plt.show()"
   ]
  },
  {
   "cell_type": "markdown",
   "id": "985f9d9c",
   "metadata": {
    "papermill": {
     "duration": 0.023727,
     "end_time": "2023-02-15T14:24:18.198190",
     "exception": false,
     "start_time": "2023-02-15T14:24:18.174463",
     "status": "completed"
    },
    "tags": []
   },
   "source": [
    "Another metric for our model is the regressor score, which we can calculate using .score()."
   ]
  },
  {
   "cell_type": "code",
   "execution_count": 28,
   "id": "23cbd4d9",
   "metadata": {
    "execution": {
     "iopub.execute_input": "2023-02-15T14:24:18.246701Z",
     "iopub.status.busy": "2023-02-15T14:24:18.246194Z",
     "iopub.status.idle": "2023-02-15T14:24:18.413379Z",
     "shell.execute_reply": "2023-02-15T14:24:18.412641Z"
    },
    "papermill": {
     "duration": 0.194636,
     "end_time": "2023-02-15T14:24:18.416280",
     "exception": false,
     "start_time": "2023-02-15T14:24:18.221644",
     "status": "completed"
    },
    "tags": []
   },
   "outputs": [],
   "source": [
    "regressor_score = model1.score(X_test,Y_test)"
   ]
  },
  {
   "cell_type": "code",
   "execution_count": 29,
   "id": "8a6e4fe1",
   "metadata": {
    "execution": {
     "iopub.execute_input": "2023-02-15T14:24:18.468642Z",
     "iopub.status.busy": "2023-02-15T14:24:18.467983Z",
     "iopub.status.idle": "2023-02-15T14:24:18.473713Z",
     "shell.execute_reply": "2023-02-15T14:24:18.471660Z"
    },
    "papermill": {
     "duration": 0.0352,
     "end_time": "2023-02-15T14:24:18.476276",
     "exception": false,
     "start_time": "2023-02-15T14:24:18.441076",
     "status": "completed"
    },
    "tags": []
   },
   "outputs": [
    {
     "name": "stdout",
     "output_type": "stream",
     "text": [
      "0.6145248444237076\n"
     ]
    }
   ],
   "source": [
    "print(regressor_score)"
   ]
  },
  {
   "cell_type": "markdown",
   "id": "24faffbb",
   "metadata": {
    "papermill": {
     "duration": 0.025418,
     "end_time": "2023-02-15T14:24:18.526027",
     "exception": false,
     "start_time": "2023-02-15T14:24:18.500609",
     "status": "completed"
    },
    "tags": []
   },
   "source": [
    "Somewhat low regressor score."
   ]
  },
  {
   "cell_type": "markdown",
   "id": "33a2c5f8",
   "metadata": {
    "papermill": {
     "duration": 0.023474,
     "end_time": "2023-02-15T14:24:18.574316",
     "exception": false,
     "start_time": "2023-02-15T14:24:18.550842",
     "status": "completed"
    },
    "tags": []
   },
   "source": [
    "**Further Modeling**\n",
    "\n",
    "The above importances makes a lot of sense, it's logical that a restaurant that is good will have many guests (thus many reviews) and a high ranking. It also makes sense that a well-liked restaurant is likely to have high prices.\n",
    "\n",
    "It doesn't have to be positvely correlated though! A restaurant could also have high prices despite having low scores - in which case the prices are also an important factor for the rating.\n",
    "\n",
    "Now lets do the same analysis without those two columns as they clearly dominate the model. Here we'll use the same variable names with a suffix of 2. Below is the assignment of independent and dependent variables."
   ]
  },
  {
   "cell_type": "code",
   "execution_count": 30,
   "id": "0ce15a91",
   "metadata": {
    "execution": {
     "iopub.execute_input": "2023-02-15T14:24:18.624207Z",
     "iopub.status.busy": "2023-02-15T14:24:18.623661Z",
     "iopub.status.idle": "2023-02-15T14:24:18.629084Z",
     "shell.execute_reply": "2023-02-15T14:24:18.628169Z"
    },
    "papermill": {
     "duration": 0.033222,
     "end_time": "2023-02-15T14:24:18.631701",
     "exception": false,
     "start_time": "2023-02-15T14:24:18.598479",
     "status": "completed"
    },
    "tags": []
   },
   "outputs": [],
   "source": [
    "X2 = df2.drop([\"rate\", \"votes\", \"approx_cost(for two people)\"], axis=1)\n",
    "X2 = X2.values\n",
    "\n",
    "Y2 = df2[\"rate\"]"
   ]
  },
  {
   "cell_type": "markdown",
   "id": "ef3bad3a",
   "metadata": {
    "papermill": {
     "duration": 0.022832,
     "end_time": "2023-02-15T14:24:18.679224",
     "exception": false,
     "start_time": "2023-02-15T14:24:18.656392",
     "status": "completed"
    },
    "tags": []
   },
   "source": [
    "Below we once again split the data into training and test set."
   ]
  },
  {
   "cell_type": "code",
   "execution_count": 31,
   "id": "47c27a6b",
   "metadata": {
    "execution": {
     "iopub.execute_input": "2023-02-15T14:24:18.728582Z",
     "iopub.status.busy": "2023-02-15T14:24:18.728178Z",
     "iopub.status.idle": "2023-02-15T14:24:18.736687Z",
     "shell.execute_reply": "2023-02-15T14:24:18.735706Z"
    },
    "papermill": {
     "duration": 0.03722,
     "end_time": "2023-02-15T14:24:18.738920",
     "exception": false,
     "start_time": "2023-02-15T14:24:18.701700",
     "status": "completed"
    },
    "tags": []
   },
   "outputs": [],
   "source": [
    "from sklearn.model_selection import train_test_split\n",
    "X2_train,X2_test, Y2_train, Y2_test = train_test_split(X2, Y2, test_size = 0.3, random_state = 0)"
   ]
  },
  {
   "cell_type": "markdown",
   "id": "317405eb",
   "metadata": {
    "papermill": {
     "duration": 0.023743,
     "end_time": "2023-02-15T14:24:18.786553",
     "exception": false,
     "start_time": "2023-02-15T14:24:18.762810",
     "status": "completed"
    },
    "tags": []
   },
   "source": [
    "Just checking the sizes of our data sets - these must match up for our model to work."
   ]
  },
  {
   "cell_type": "code",
   "execution_count": 32,
   "id": "e6cafc95",
   "metadata": {
    "execution": {
     "iopub.execute_input": "2023-02-15T14:24:18.839600Z",
     "iopub.status.busy": "2023-02-15T14:24:18.838682Z",
     "iopub.status.idle": "2023-02-15T14:24:18.846460Z",
     "shell.execute_reply": "2023-02-15T14:24:18.844902Z"
    },
    "papermill": {
     "duration": 0.037196,
     "end_time": "2023-02-15T14:24:18.848792",
     "exception": false,
     "start_time": "2023-02-15T14:24:18.811596",
     "status": "completed"
    },
    "tags": []
   },
   "outputs": [
    {
     "name": "stdout",
     "output_type": "stream",
     "text": [
      "11\n",
      "11\n",
      "16132\n",
      "16132\n",
      "6914\n",
      "6914\n"
     ]
    }
   ],
   "source": [
    "print(len(X2_train[0]))\n",
    "print(len(X2_test[0]))\n",
    "\n",
    "print(len(Y2_train))\n",
    "print(len(X2_train))\n",
    "\n",
    "print(len(Y2_test))\n",
    "print(len(X2_test))"
   ]
  },
  {
   "cell_type": "markdown",
   "id": "3e59118a",
   "metadata": {
    "papermill": {
     "duration": 0.022952,
     "end_time": "2023-02-15T14:24:18.896076",
     "exception": false,
     "start_time": "2023-02-15T14:24:18.873124",
     "status": "completed"
    },
    "tags": []
   },
   "source": [
    "Once again using random forests to create our model (model2)."
   ]
  },
  {
   "cell_type": "code",
   "execution_count": 33,
   "id": "384dfbff",
   "metadata": {
    "execution": {
     "iopub.execute_input": "2023-02-15T14:24:18.947355Z",
     "iopub.status.busy": "2023-02-15T14:24:18.946655Z",
     "iopub.status.idle": "2023-02-15T14:24:19.490313Z",
     "shell.execute_reply": "2023-02-15T14:24:19.488564Z"
    },
    "papermill": {
     "duration": 0.573397,
     "end_time": "2023-02-15T14:24:19.493074",
     "exception": false,
     "start_time": "2023-02-15T14:24:18.919677",
     "status": "completed"
    },
    "tags": []
   },
   "outputs": [
    {
     "name": "stdout",
     "output_type": "stream",
     "text": [
      "MSE: 0.15081154006316874\n"
     ]
    }
   ],
   "source": [
    "from sklearn.ensemble import RandomForestRegressor\n",
    "\n",
    "model2 = RandomForestRegressor(n_estimators=100)\n",
    "\n",
    "# Fit the model to the training data\n",
    "model2.fit(X2_train, Y2_train)\n",
    "\n",
    "# Use the model to make predictions on the test data\n",
    "Y2_pred = model2.predict(X2_test)\n",
    "\n",
    "# Evaluate the model using mean squared error (MSE)\n",
    "from sklearn.metrics import mean_squared_error\n",
    "print(\"MSE:\", mean_squared_error(Y2_test, Y2_pred))"
   ]
  },
  {
   "cell_type": "markdown",
   "id": "67814d8d",
   "metadata": {
    "papermill": {
     "duration": 0.023979,
     "end_time": "2023-02-15T14:24:19.541482",
     "exception": false,
     "start_time": "2023-02-15T14:24:19.517503",
     "status": "completed"
    },
    "tags": []
   },
   "source": [
    "The new MSE is higher than before. This makes sense, as the results from the previous tests showed that the number of votes and the price were of greatest importance, while the other variables were very evenly (and weakly) important. So, when creating a new model with these other variables, we have a less reliable model.\n",
    "\n"
   ]
  },
  {
   "cell_type": "markdown",
   "id": "b6635ce0",
   "metadata": {
    "papermill": {
     "duration": 0.023637,
     "end_time": "2023-02-15T14:24:19.589392",
     "exception": false,
     "start_time": "2023-02-15T14:24:19.565755",
     "status": "completed"
    },
    "tags": []
   },
   "source": [
    "Lets check the regressor score for this new model:"
   ]
  },
  {
   "cell_type": "code",
   "execution_count": 34,
   "id": "df58272e",
   "metadata": {
    "execution": {
     "iopub.execute_input": "2023-02-15T14:24:19.637948Z",
     "iopub.status.busy": "2023-02-15T14:24:19.637594Z",
     "iopub.status.idle": "2023-02-15T14:24:19.683524Z",
     "shell.execute_reply": "2023-02-15T14:24:19.681523Z"
    },
    "papermill": {
     "duration": 0.07346,
     "end_time": "2023-02-15T14:24:19.686282",
     "exception": false,
     "start_time": "2023-02-15T14:24:19.612822",
     "status": "completed"
    },
    "tags": []
   },
   "outputs": [
    {
     "name": "stdout",
     "output_type": "stream",
     "text": [
      "0.1588692268853069\n"
     ]
    }
   ],
   "source": [
    "regressor_score2 = model2.score(X2_test,Y2_test)\n",
    "print(regressor_score2)"
   ]
  },
  {
   "cell_type": "markdown",
   "id": "77ac3396",
   "metadata": {
    "papermill": {
     "duration": 0.022969,
     "end_time": "2023-02-15T14:24:19.733767",
     "exception": false,
     "start_time": "2023-02-15T14:24:19.710798",
     "status": "completed"
    },
    "tags": []
   },
   "source": [
    "Our new regressor score is significantly lower than for our first model. This makes sense, as explained above relating to the higher MSE."
   ]
  },
  {
   "cell_type": "markdown",
   "id": "e4733082",
   "metadata": {
    "papermill": {
     "duration": 0.023419,
     "end_time": "2023-02-15T14:24:19.780364",
     "exception": false,
     "start_time": "2023-02-15T14:24:19.756945",
     "status": "completed"
    },
    "tags": []
   },
   "source": [
    "Below we check the importances in our new model:"
   ]
  },
  {
   "cell_type": "code",
   "execution_count": 35,
   "id": "fcad49a5",
   "metadata": {
    "execution": {
     "iopub.execute_input": "2023-02-15T14:24:19.830759Z",
     "iopub.status.busy": "2023-02-15T14:24:19.830400Z",
     "iopub.status.idle": "2023-02-15T14:24:19.846700Z",
     "shell.execute_reply": "2023-02-15T14:24:19.845768Z"
    },
    "papermill": {
     "duration": 0.043655,
     "end_time": "2023-02-15T14:24:19.848795",
     "exception": false,
     "start_time": "2023-02-15T14:24:19.805140",
     "status": "completed"
    },
    "tags": []
   },
   "outputs": [
    {
     "name": "stdout",
     "output_type": "stream",
     "text": [
      "Feature importances: [0.00745578 0.01070397 0.24232676 0.56745491 0.00368115 0.0449542\n",
      " 0.01199877 0.07986757 0.00962073 0.01347929 0.00845686]\n"
     ]
    }
   ],
   "source": [
    "importances2 = model2.feature_importances_\n",
    "\n",
    "# Print the feature importances\n",
    "print(\"Feature importances:\", importances2)"
   ]
  },
  {
   "cell_type": "code",
   "execution_count": 36,
   "id": "5600daf8",
   "metadata": {
    "execution": {
     "iopub.execute_input": "2023-02-15T14:24:19.896898Z",
     "iopub.status.busy": "2023-02-15T14:24:19.896153Z",
     "iopub.status.idle": "2023-02-15T14:24:20.074806Z",
     "shell.execute_reply": "2023-02-15T14:24:20.074209Z"
    },
    "papermill": {
     "duration": 0.204493,
     "end_time": "2023-02-15T14:24:20.076383",
     "exception": false,
     "start_time": "2023-02-15T14:24:19.871890",
     "status": "completed"
    },
    "tags": []
   },
   "outputs": [
    {
     "data": {
      "image/png": "[encoded data removed]",
      "text/plain": [
       "<Figure size 432x288 with 1 Axes>"
      ]
     },
     "metadata": {
      "needs_background": "light"
     },
     "output_type": "display_data"
    }
   ],
   "source": [
    "# Plot the feature importances\n",
    "import matplotlib.pyplot as plt\n",
    "\n",
    "plt.bar(df2.drop([\"rate\", \"votes\", \"approx_cost(for two people)\"], axis=1).columns, importances2)\n",
    "plt.xlabel(\"Independent variables\")\n",
    "plt.ylabel(\"Importance\")\n",
    "plt.xticks(rotation=90)\n",
    "plt.title(\"Importance of X variables\")\n",
    "plt.show()"
   ]
  },
  {
   "cell_type": "markdown",
   "id": "d2c417ab",
   "metadata": {
    "papermill": {
     "duration": 0.02185,
     "end_time": "2023-02-15T14:24:20.120686",
     "exception": false,
     "start_time": "2023-02-15T14:24:20.098836",
     "status": "completed"
    },
    "tags": []
   },
   "source": [
    "**Data Visualization**\n",
    "\n",
    "Overwhelmingly, a restaurant taking bookings is the biggest factor in its rating for our new set of independent variables. Here, I would imagine that there is a positive correlation between the two - that a restaurant taking bookings is likely to have lower ratings. Lets visualize this to check!\n",
    "\n",
    "Below I have plotted the ratings of restaurants on the x axis and their density (normalized to 1) on the y axis. Each graph also displays this data for two different cases. The first one looks at bookings, the second looks at online orders, and lastly whether a restaurant has the listed_in(type) value of \"delivery\"."
   ]
  },
  {
   "cell_type": "code",
   "execution_count": 37,
   "id": "ae7b8b41",
   "metadata": {
    "execution": {
     "iopub.execute_input": "2023-02-15T14:24:20.169376Z",
     "iopub.status.busy": "2023-02-15T14:24:20.168821Z",
     "iopub.status.idle": "2023-02-15T14:24:20.869735Z",
     "shell.execute_reply": "2023-02-15T14:24:20.869045Z"
    },
    "papermill": {
     "duration": 0.727312,
     "end_time": "2023-02-15T14:24:20.871488",
     "exception": false,
     "start_time": "2023-02-15T14:24:20.144176",
     "status": "completed"
    },
    "tags": []
   },
   "outputs": [
    {
     "data": {
      "text/plain": [
       "Text(0.5, 0.98, 'Ratings density - 3 cases')"
      ]
     },
     "execution_count": 37,
     "metadata": {},
     "output_type": "execute_result"
    },
    {
     "data": {
      "image/png": "[encoded data removed]",
      "text/plain": [
       "<Figure size 432x288 with 3 Axes>"
      ]
     },
     "metadata": {
      "needs_background": "light"
     },
     "output_type": "display_data"
    }
   ],
   "source": [
    "fig,axes = plt.subplots(3,1)\n",
    "\n",
    "sns.kdeplot(x = 'rate', hue = 'book_table_Yes', palette = 'Set2', shade=True, data = df2, ax=axes[0])\n",
    "\n",
    "sns.kdeplot(x = 'rate', hue = 'online_order_Yes', palette = 'Set2', shade=True, data = df2, ax=axes[1])\n",
    "\n",
    "sns.kdeplot(x = 'rate', hue = 'listed_in(type)_Delivery', palette = 'Set2', shade=True, data = df2, ax=axes[2])\n",
    "\n",
    "axes[0].set_xlabel(\"Rating\")\n",
    "axes[1].set_xlabel(\"Rating\")\n",
    "axes[2].set_xlabel(\"Rating\")\n",
    "fig.suptitle(\"Ratings density - 3 cases\")\n"
   ]
  },
  {
   "cell_type": "markdown",
   "id": "2b21a212",
   "metadata": {
    "papermill": {
     "duration": 0.024589,
     "end_time": "2023-02-15T14:24:20.920649",
     "exception": false,
     "start_time": "2023-02-15T14:24:20.896060",
     "status": "completed"
    },
    "tags": []
   },
   "source": [
    "The first graph above agrees with my proposal - restaurants which do not take bookings have a lower mean rating. This is further significant as the number of restaurants which do not take bookings is much greater than the number of restaurants which do, and yet there are more bookable restaurants with higher ratings!\n",
    "\n",
    "Whether a restaurant takes online orders is less indicative, although restaurants which do take online orders have a lower spread (lower standard deviation) than those that don't. We could calculate the specific values for mean and standard deviation if we want.\n",
    "\n",
    "Lastly, whether a restaurant performs delivery is not a significant factor for ratings, where restaurants that don't deliver are only slightly higher rated on average. The spreads are also very similar between the two groups."
   ]
  },
  {
   "cell_type": "markdown",
   "id": "ff72b5b2",
   "metadata": {
    "papermill": {
     "duration": 0.024154,
     "end_time": "2023-02-15T14:24:20.970145",
     "exception": false,
     "start_time": "2023-02-15T14:24:20.945991",
     "status": "completed"
    },
    "tags": []
   },
   "source": [
    "We can also look at ratings grouped into all 7 restaurant categories. Using df3 below as this dataframe still has the listed_in(type) column unchanged from the start and I know that ratings have been converted into floats as desired."
   ]
  },
  {
   "cell_type": "code",
   "execution_count": 38,
   "id": "846bbada",
   "metadata": {
    "execution": {
     "iopub.execute_input": "2023-02-15T14:24:21.021466Z",
     "iopub.status.busy": "2023-02-15T14:24:21.020889Z",
     "iopub.status.idle": "2023-02-15T14:24:21.544995Z",
     "shell.execute_reply": "2023-02-15T14:24:21.543035Z"
    },
    "papermill": {
     "duration": 0.553168,
     "end_time": "2023-02-15T14:24:21.547417",
     "exception": false,
     "start_time": "2023-02-15T14:24:20.994249",
     "status": "completed"
    },
    "tags": []
   },
   "outputs": [
    {
     "data": {
      "text/plain": [
       "Text(0.5, 1.0, 'Ratings by Restaurant Type')"
      ]
     },
     "execution_count": 38,
     "metadata": {},
     "output_type": "execute_result"
    },
    {
     "data": {
      "image/png": "[encoded data removed]",
      "text/plain": [
       "<Figure size 432x288 with 1 Axes>"
      ]
     },
     "metadata": {
      "needs_background": "light"
     },
     "output_type": "display_data"
    }
   ],
   "source": [
    "sns.kdeplot(x = 'rate', hue = 'listed_in(type)', palette = 'Set2', shade=True, data = df)\n",
    "plt.xlabel(\"Rating\")\n",
    "plt.ylabel(\"Density\")\n",
    "plt.title(\"Ratings by Restaurant Type\")"
   ]
  },
  {
   "cell_type": "markdown",
   "id": "73aec221",
   "metadata": {
    "papermill": {
     "duration": 0.024695,
     "end_time": "2023-02-15T14:24:21.597534",
     "exception": false,
     "start_time": "2023-02-15T14:24:21.572839",
     "status": "completed"
    },
    "tags": []
   },
   "source": [
    "Here we see quite similar mean scores for the different restaurant types, with some having more spread than others. We can check the specific mean and STD values:"
   ]
  },
  {
   "cell_type": "code",
   "execution_count": 39,
   "id": "60fde9f1",
   "metadata": {
    "execution": {
     "iopub.execute_input": "2023-02-15T14:24:21.652309Z",
     "iopub.status.busy": "2023-02-15T14:24:21.651008Z",
     "iopub.status.idle": "2023-02-15T14:24:21.689618Z",
     "shell.execute_reply": "2023-02-15T14:24:21.688071Z"
    },
    "papermill": {
     "duration": 0.069862,
     "end_time": "2023-02-15T14:24:21.692044",
     "exception": false,
     "start_time": "2023-02-15T14:24:21.622182",
     "status": "completed"
    },
    "tags": []
   },
   "outputs": [
    {
     "name": "stdout",
     "output_type": "stream",
     "text": [
      "Buffet mean 4.049667994687915 and std 0.4276084175677904\n",
      "Cafes mean 4.027342256214149 and std 0.36352607492517325\n",
      "Delivery mean 3.8531158392434985 and std 0.41459732653701525\n",
      "Desserts mean 4.02593984962406 and std 0.3441602195567274\n",
      "Dineout mean 3.882147347246668 and std 0.4503690208165209\n",
      "Drinks & nightlife mean 4.126061997703788 and std 0.36173018561677905\n",
      "Pubs and bars mean 4.148549323017408 and std 0.326513803002105\n"
     ]
    }
   ],
   "source": [
    "buffet_m = df3.loc[df3[\"listed_in(type)\"]==\"Buffet\",\"rate\"].mean()\n",
    "buffet_std = df3.loc[df3[\"listed_in(type)\"]==\"Buffet\",\"rate\"].std()\n",
    "cafes_m = df3.loc[df3[\"listed_in(type)\"]==\"Cafes\",\"rate\"].mean()\n",
    "cafes_std = df3.loc[df3[\"listed_in(type)\"]==\"Cafes\",\"rate\"].std()\n",
    "delivery_m = df3.loc[df3[\"listed_in(type)\"]==\"Delivery\",\"rate\"].mean()\n",
    "delivery_std = df3.loc[df3[\"listed_in(type)\"]==\"Delivery\",\"rate\"].std()\n",
    "desserts_m = df3.loc[df3[\"listed_in(type)\"]==\"Desserts\",\"rate\"].mean()\n",
    "desserts_std = df3.loc[df3[\"listed_in(type)\"]==\"Desserts\",\"rate\"].std()\n",
    "dineout_m = df3.loc[df3[\"listed_in(type)\"]==\"Dine-out\",\"rate\"].mean()\n",
    "dineout_std = df3.loc[df3[\"listed_in(type)\"]==\"Dine-out\",\"rate\"].std()\n",
    "drinksnightlife_m = df3.loc[df3[\"listed_in(type)\"]==\"Drinks & nightlife\",\"rate\"].mean()\n",
    "drinksnightlife_std = df3.loc[df3[\"listed_in(type)\"]==\"Drinks & nightlife\",\"rate\"].std()\n",
    "pubsbars_m = df3.loc[df3[\"listed_in(type)\"]==\"Pubs and bars\",\"rate\"].mean()\n",
    "pubsbars_std = df3.loc[df3[\"listed_in(type)\"]==\"Pubs and bars\",\"rate\"].std()\n",
    "\n",
    "print(f\"Buffet mean {buffet_m} and std {buffet_std}\")\n",
    "print(f\"Cafes mean {cafes_m} and std {cafes_std}\")\n",
    "print(f\"Delivery mean {delivery_m} and std {delivery_std}\")\n",
    "print(f\"Desserts mean {desserts_m} and std {desserts_std}\")\n",
    "print(f\"Dineout mean {dineout_m} and std {dineout_std}\")\n",
    "print(f\"Drinks & nightlife mean {drinksnightlife_m} and std {drinksnightlife_std}\")\n",
    "print(f\"Pubs and bars mean {pubsbars_m} and std {pubsbars_std}\")"
   ]
  },
  {
   "cell_type": "markdown",
   "id": "521bc72a",
   "metadata": {
    "papermill": {
     "duration": 0.024252,
     "end_time": "2023-02-15T14:24:21.740591",
     "exception": false,
     "start_time": "2023-02-15T14:24:21.716339",
     "status": "completed"
    },
    "tags": []
   },
   "source": [
    "Lets compare these a little further by visualizing them:"
   ]
  },
  {
   "cell_type": "code",
   "execution_count": 40,
   "id": "51171ca3",
   "metadata": {
    "execution": {
     "iopub.execute_input": "2023-02-15T14:24:21.792446Z",
     "iopub.status.busy": "2023-02-15T14:24:21.791882Z",
     "iopub.status.idle": "2023-02-15T14:24:21.989650Z",
     "shell.execute_reply": "2023-02-15T14:24:21.987835Z"
    },
    "papermill": {
     "duration": 0.227053,
     "end_time": "2023-02-15T14:24:21.992012",
     "exception": false,
     "start_time": "2023-02-15T14:24:21.764959",
     "status": "completed"
    },
    "tags": []
   },
   "outputs": [
    {
     "name": "stderr",
     "output_type": "stream",
     "text": [
      "/opt/conda/lib/python3.7/site-packages/ipykernel_launcher.py:2: UserWarning: FixedFormatter should only be used together with FixedLocator\n",
      "  \n",
      "/opt/conda/lib/python3.7/site-packages/ipykernel_launcher.py:3: UserWarning: FixedFormatter should only be used together with FixedLocator\n",
      "  This is separate from the ipykernel package so we can avoid doing imports until\n"
     ]
    },
    {
     "data": {
      "image/png": "[encoded data removed]",
      "text/plain": [
       "<Figure size 504x360 with 2 Axes>"
      ]
     },
     "metadata": {
      "needs_background": "light"
     },
     "output_type": "display_data"
    }
   ],
   "source": [
    "fig,(ax1,ax2) = plt.subplots(2,1, figsize=(7, 5))\n",
    "ax1.set_xticklabels([\"Buffet\", \"Cafes\", \"Delivery\", \"Desserts\", \"Dine out\", \"Drinks & nightlife\", \"Pubs and bars\"], rotation=10)\n",
    "ax2.set_xticklabels([\"Buffet\", \"Cafes\", \"Delivery\", \"Desserts\", \"Dine out\", \"Drinks & nightlife\", \"Pubs and bars\"], rotation=10)\n",
    "ax1.plot([\"Buffet\", \"Cafes\", \"Delivery\", \"Desserts\", \"Dine out\", \"Drinks & nightlife\", \"Pubs and bars\"], [buffet_m, cafes_m, delivery_m,desserts_m,dineout_m,drinksnightlife_m,pubsbars_m])\n",
    "\n",
    "ax2.plot([\"Buffet\", \"Cafes\", \"Delivery\", \"Desserts\", \"Dine out\", \"Drinks & nightlife\", \"Pubs and bars\"], [buffet_std, cafes_std, delivery_std,desserts_std,dineout_std,drinksnightlife_std,pubsbars_std])\n",
    "\n",
    "ax1.set_xlabel(\"Restaurant type\")\n",
    "ax1.set_ylabel(\"Mean score\")\n",
    "\n",
    "ax2.set_xlabel(\"Restaurant type\")\n",
    "ax2.set_ylabel(\"Standard Deviation\")\n",
    "\n",
    "fig.suptitle(\"Mean and STD of restaurant scores by category\")\n",
    "\n",
    "plt.show()"
   ]
  },
  {
   "cell_type": "markdown",
   "id": "5ff2e1aa",
   "metadata": {
    "papermill": {
     "duration": 0.02535,
     "end_time": "2023-02-15T14:24:22.042977",
     "exception": false,
     "start_time": "2023-02-15T14:24:22.017627",
     "status": "completed"
    },
    "tags": []
   },
   "source": [
    "Buffets, drinks&nightlife and pubs&bars clearly have the highest scores, but with the first one of these also having a very high standard deviation. It is clear that although buffets are generally well liked, there are many that have lower (as well as EVEN higher) ratings.\n",
    "\n",
    "The other two categories mentioned have high ratings but mid-range STD, indicating that they are more reliably high-scoring.\n",
    "\n",
    "Lastly, restaurants grouped as dine-out score the second-lowest on average, but have the highest STD. This implies that the spread is quite large and there may be quite a few very high-scoring dine-out restaurants, although the majority are not well-liked."
   ]
  },
  {
   "cell_type": "markdown",
   "id": "f5a21ea5",
   "metadata": {
    "papermill": {
     "duration": 0.024693,
     "end_time": "2023-02-15T14:24:22.094288",
     "exception": false,
     "start_time": "2023-02-15T14:24:22.069595",
     "status": "completed"
    },
    "tags": []
   },
   "source": [
    "**Final Processing - Sentiment Analysis**\n",
    "\n",
    "Finally lets also do some sentiment analysis on the reviews from our data, and see how these relate to our restaurant ratings.\n",
    "\n",
    "We created df4 before, containing all the reviews of our restaurants (with rows removed that had NaN in any column. Here we convert the Series object into an array."
   ]
  },
  {
   "cell_type": "code",
   "execution_count": 41,
   "id": "356a0809",
   "metadata": {
    "execution": {
     "iopub.execute_input": "2023-02-15T14:24:22.146528Z",
     "iopub.status.busy": "2023-02-15T14:24:22.146137Z",
     "iopub.status.idle": "2023-02-15T14:24:22.151327Z",
     "shell.execute_reply": "2023-02-15T14:24:22.150045Z"
    },
    "papermill": {
     "duration": 0.034155,
     "end_time": "2023-02-15T14:24:22.153091",
     "exception": false,
     "start_time": "2023-02-15T14:24:22.118936",
     "status": "completed"
    },
    "tags": []
   },
   "outputs": [],
   "source": [
    "df4 = df4.values"
   ]
  },
  {
   "cell_type": "markdown",
   "id": "034ab4aa",
   "metadata": {
    "papermill": {
     "duration": 0.024536,
     "end_time": "2023-02-15T14:24:22.202768",
     "exception": false,
     "start_time": "2023-02-15T14:24:22.178232",
     "status": "completed"
    },
    "tags": []
   },
   "source": [
    "Double checking the number of entries (which turns out to be the same as the rest of our data)."
   ]
  },
  {
   "cell_type": "code",
   "execution_count": 42,
   "id": "3cc435f5",
   "metadata": {
    "execution": {
     "iopub.execute_input": "2023-02-15T14:24:22.254962Z",
     "iopub.status.busy": "2023-02-15T14:24:22.254616Z",
     "iopub.status.idle": "2023-02-15T14:24:22.258849Z",
     "shell.execute_reply": "2023-02-15T14:24:22.258266Z"
    },
    "papermill": {
     "duration": 0.033205,
     "end_time": "2023-02-15T14:24:22.260942",
     "exception": false,
     "start_time": "2023-02-15T14:24:22.227737",
     "status": "completed"
    },
    "tags": []
   },
   "outputs": [
    {
     "name": "stdout",
     "output_type": "stream",
     "text": [
      "23046\n"
     ]
    }
   ],
   "source": [
    "print(len(df4))"
   ]
  },
  {
   "cell_type": "markdown",
   "id": "28e846c5",
   "metadata": {
    "papermill": {
     "duration": 0.024819,
     "end_time": "2023-02-15T14:24:22.311528",
     "exception": false,
     "start_time": "2023-02-15T14:24:22.286709",
     "status": "completed"
    },
    "tags": []
   },
   "source": [
    "We will use the Natural Languate Toolkit (NLTK) for our sentiment analysis. We import it below and download the lexicon used."
   ]
  },
  {
   "cell_type": "code",
   "execution_count": 43,
   "id": "7f4fc64c",
   "metadata": {
    "execution": {
     "iopub.execute_input": "2023-02-15T14:24:22.364691Z",
     "iopub.status.busy": "2023-02-15T14:24:22.364098Z",
     "iopub.status.idle": "2023-02-15T14:24:22.939884Z",
     "shell.execute_reply": "2023-02-15T14:24:22.938289Z"
    },
    "papermill": {
     "duration": 0.605759,
     "end_time": "2023-02-15T14:24:22.942384",
     "exception": false,
     "start_time": "2023-02-15T14:24:22.336625",
     "status": "completed"
    },
    "tags": []
   },
   "outputs": [],
   "source": [
    "import nltk"
   ]
  },
  {
   "cell_type": "code",
   "execution_count": 44,
   "id": "86fcebaf",
   "metadata": {
    "execution": {
     "iopub.execute_input": "2023-02-15T14:24:22.998331Z",
     "iopub.status.busy": "2023-02-15T14:24:22.997693Z",
     "iopub.status.idle": "2023-02-15T14:24:23.252884Z",
     "shell.execute_reply": "2023-02-15T14:24:23.251012Z"
    },
    "papermill": {
     "duration": 0.286929,
     "end_time": "2023-02-15T14:24:23.255631",
     "exception": false,
     "start_time": "2023-02-15T14:24:22.968702",
     "status": "completed"
    },
    "tags": []
   },
   "outputs": [
    {
     "name": "stderr",
     "output_type": "stream",
     "text": [
      "[nltk_data] Downloading package vader_lexicon to\n",
      "[nltk_data]     /usr/share/nltk_data...\n",
      "[nltk_data]   Package vader_lexicon is already up-to-date!\n"
     ]
    }
   ],
   "source": [
    "nltk.download('vader_lexicon')  # Download the sentiment analysis lexicon\n",
    "\n",
    "from nltk.sentiment.vader import SentimentIntensityAnalyzer\n",
    "\n",
    "# Create a sentiment analyzer object\n",
    "analyzer = SentimentIntensityAnalyzer()\n",
    "\n",
    "# sample sentence to show how this works\n",
    "sentence = \"I love this movie! It's amazing!\"\n",
    "scores = analyzer.polarity_scores(sentence)"
   ]
  },
  {
   "cell_type": "markdown",
   "id": "d1e88171",
   "metadata": {
    "papermill": {
     "duration": 0.024842,
     "end_time": "2023-02-15T14:24:23.306402",
     "exception": false,
     "start_time": "2023-02-15T14:24:23.281560",
     "status": "completed"
    },
    "tags": []
   },
   "source": [
    "We create a new list where we'll save our output sentiment values, so that later these can be saved back into our dataframe to be included in our model. This specific cell takes a long time to run! Makes sense, as we have more than 20,000 restaurants in our dataset at this point and each one can have many reviews that must be analyzed."
   ]
  },
  {
   "cell_type": "code",
   "execution_count": 45,
   "id": "29923ed1",
   "metadata": {
    "execution": {
     "iopub.execute_input": "2023-02-15T14:24:23.360203Z",
     "iopub.status.busy": "2023-02-15T14:24:23.359835Z",
     "iopub.status.idle": "2023-02-15T15:04:19.553038Z",
     "shell.execute_reply": "2023-02-15T15:04:19.550614Z"
    },
    "papermill": {
     "duration": 2396.223939,
     "end_time": "2023-02-15T15:04:19.556399",
     "exception": false,
     "start_time": "2023-02-15T14:24:23.332460",
     "status": "completed"
    },
    "tags": []
   },
   "outputs": [],
   "source": [
    "sentiments = []\n",
    "for review in df4:\n",
    "    sentiments.append(analyzer.polarity_scores(review))\n"
   ]
  },
  {
   "cell_type": "markdown",
   "id": "5a790626",
   "metadata": {
    "papermill": {
     "duration": 0.026454,
     "end_time": "2023-02-15T15:04:19.717495",
     "exception": false,
     "start_time": "2023-02-15T15:04:19.691041",
     "status": "completed"
    },
    "tags": []
   },
   "source": [
    "Just checking what our resultant data looks like. We get a tuple for each restaurant, containing a score for negativity, neutrality, and positivity, as well as a compound score."
   ]
  },
  {
   "cell_type": "code",
   "execution_count": 46,
   "id": "731d6052",
   "metadata": {
    "execution": {
     "iopub.execute_input": "2023-02-15T15:04:19.775062Z",
     "iopub.status.busy": "2023-02-15T15:04:19.774371Z",
     "iopub.status.idle": "2023-02-15T15:04:19.781481Z",
     "shell.execute_reply": "2023-02-15T15:04:19.779723Z"
    },
    "papermill": {
     "duration": 0.039683,
     "end_time": "2023-02-15T15:04:19.783740",
     "exception": false,
     "start_time": "2023-02-15T15:04:19.744057",
     "status": "completed"
    },
    "tags": []
   },
   "outputs": [
    {
     "name": "stdout",
     "output_type": "stream",
     "text": [
      "[{'neg': 0.031, 'neu': 0.712, 'pos': 0.258, 'compound': 0.9996}, {'neg': 0.044, 'neu': 0.755, 'pos': 0.201, 'compound': 0.9995}, {'neg': 0.066, 'neu': 0.801, 'pos': 0.133, 'compound': 0.9985}, {'neg': 0.038, 'neu': 0.802, 'pos': 0.16, 'compound': 0.9999}, {'neg': 0.0, 'neu': 0.787, 'pos': 0.213, 'compound': 0.9735}, {'neg': 0.0, 'neu': 0.967, 'pos': 0.033, 'compound': 0.2382}, {'neg': 0.031, 'neu': 0.696, 'pos': 0.273, 'compound': 1.0}, {'neg': 0.052, 'neu': 0.689, 'pos': 0.259, 'compound': 1.0}, {'neg': 0.024, 'neu': 0.786, 'pos': 0.189, 'compound': 0.9976}, {'neg': 0.04, 'neu': 0.686, 'pos': 0.274, 'compound': 0.9991}]\n"
     ]
    }
   ],
   "source": [
    "print(sentiments[0:10])"
   ]
  },
  {
   "cell_type": "markdown",
   "id": "98123164",
   "metadata": {
    "papermill": {
     "duration": 0.026256,
     "end_time": "2023-02-15T15:04:19.836627",
     "exception": false,
     "start_time": "2023-02-15T15:04:19.810371",
     "status": "completed"
    },
    "tags": []
   },
   "source": [
    "For simplicity we'll focus on the positive scores, which we save into a new list positivity."
   ]
  },
  {
   "cell_type": "code",
   "execution_count": 47,
   "id": "efaa3516",
   "metadata": {
    "execution": {
     "iopub.execute_input": "2023-02-15T15:04:19.892454Z",
     "iopub.status.busy": "2023-02-15T15:04:19.892122Z",
     "iopub.status.idle": "2023-02-15T15:04:19.905990Z",
     "shell.execute_reply": "2023-02-15T15:04:19.904918Z"
    },
    "papermill": {
     "duration": 0.04383,
     "end_time": "2023-02-15T15:04:19.908026",
     "exception": false,
     "start_time": "2023-02-15T15:04:19.864196",
     "status": "completed"
    },
    "tags": []
   },
   "outputs": [],
   "source": [
    "positivity = [float(score['pos']) for score in sentiments]"
   ]
  },
  {
   "cell_type": "markdown",
   "id": "63401d81",
   "metadata": {
    "papermill": {
     "duration": 0.025339,
     "end_time": "2023-02-15T15:04:19.959106",
     "exception": false,
     "start_time": "2023-02-15T15:04:19.933767",
     "status": "completed"
    },
    "tags": []
   },
   "source": [
    "Adding this list into our dataframe:"
   ]
  },
  {
   "cell_type": "code",
   "execution_count": 48,
   "id": "d74dded9",
   "metadata": {
    "execution": {
     "iopub.execute_input": "2023-02-15T15:04:20.013432Z",
     "iopub.status.busy": "2023-02-15T15:04:20.013105Z",
     "iopub.status.idle": "2023-02-15T15:04:20.030901Z",
     "shell.execute_reply": "2023-02-15T15:04:20.029787Z"
    },
    "papermill": {
     "duration": 0.047949,
     "end_time": "2023-02-15T15:04:20.033419",
     "exception": false,
     "start_time": "2023-02-15T15:04:19.985470",
     "status": "completed"
    },
    "tags": []
   },
   "outputs": [],
   "source": [
    "df2[\"sentiment\"] = positivity"
   ]
  },
  {
   "cell_type": "markdown",
   "id": "766c31f5",
   "metadata": {
    "papermill": {
     "duration": 0.026031,
     "end_time": "2023-02-15T15:04:20.085166",
     "exception": false,
     "start_time": "2023-02-15T15:04:20.059135",
     "status": "completed"
    },
    "tags": []
   },
   "source": [
    "As we can see below, the rightmost column contains the positivity scores for each restaurant, as desired."
   ]
  },
  {
   "cell_type": "code",
   "execution_count": 49,
   "id": "d64ffeba",
   "metadata": {
    "execution": {
     "iopub.execute_input": "2023-02-15T15:04:20.141368Z",
     "iopub.status.busy": "2023-02-15T15:04:20.140789Z",
     "iopub.status.idle": "2023-02-15T15:04:20.166122Z",
     "shell.execute_reply": "2023-02-15T15:04:20.165028Z"
    },
    "papermill": {
     "duration": 0.054242,
     "end_time": "2023-02-15T15:04:20.167895",
     "exception": false,
     "start_time": "2023-02-15T15:04:20.113653",
     "status": "completed"
    },
    "tags": []
   },
   "outputs": [
    {
     "data": {
      "text/html": [
       "<div>\n",
       "<style scoped>\n",
       "    .dataframe tbody tr th:only-of-type {\n",
       "        vertical-align: middle;\n",
       "    }\n",
       "\n",
       "    .dataframe tbody tr th {\n",
       "        vertical-align: top;\n",
       "    }\n",
       "\n",
       "    .dataframe thead th {\n",
       "        text-align: right;\n",
       "    }\n",
       "</style>\n",
       "<table border=\"1\" class=\"dataframe\">\n",
       "  <thead>\n",
       "    <tr style=\"text-align: right;\">\n",
       "      <th></th>\n",
       "      <th>rate</th>\n",
       "      <th>votes</th>\n",
       "      <th>approx_cost(for two people)</th>\n",
       "      <th>online_order_No</th>\n",
       "      <th>online_order_Yes</th>\n",
       "      <th>book_table_No</th>\n",
       "      <th>book_table_Yes</th>\n",
       "      <th>listed_in(type)_Buffet</th>\n",
       "      <th>listed_in(type)_Cafes</th>\n",
       "      <th>listed_in(type)_Delivery</th>\n",
       "      <th>listed_in(type)_Desserts</th>\n",
       "      <th>listed_in(type)_Dine-out</th>\n",
       "      <th>listed_in(type)_Drinks &amp; nightlife</th>\n",
       "      <th>listed_in(type)_Pubs and bars</th>\n",
       "      <th>sentiment</th>\n",
       "    </tr>\n",
       "  </thead>\n",
       "  <tbody>\n",
       "    <tr>\n",
       "      <th>0</th>\n",
       "      <td>4.1</td>\n",
       "      <td>0.046043</td>\n",
       "      <td>0.133333</td>\n",
       "      <td>0</td>\n",
       "      <td>1</td>\n",
       "      <td>0</td>\n",
       "      <td>1</td>\n",
       "      <td>1</td>\n",
       "      <td>0</td>\n",
       "      <td>0</td>\n",
       "      <td>0</td>\n",
       "      <td>0</td>\n",
       "      <td>0</td>\n",
       "      <td>0</td>\n",
       "      <td>0.258</td>\n",
       "    </tr>\n",
       "    <tr>\n",
       "      <th>1</th>\n",
       "      <td>4.1</td>\n",
       "      <td>0.046756</td>\n",
       "      <td>0.133333</td>\n",
       "      <td>0</td>\n",
       "      <td>1</td>\n",
       "      <td>1</td>\n",
       "      <td>0</td>\n",
       "      <td>1</td>\n",
       "      <td>0</td>\n",
       "      <td>0</td>\n",
       "      <td>0</td>\n",
       "      <td>0</td>\n",
       "      <td>0</td>\n",
       "      <td>0</td>\n",
       "      <td>0.201</td>\n",
       "    </tr>\n",
       "    <tr>\n",
       "      <th>2</th>\n",
       "      <td>3.8</td>\n",
       "      <td>0.054539</td>\n",
       "      <td>0.133333</td>\n",
       "      <td>0</td>\n",
       "      <td>1</td>\n",
       "      <td>1</td>\n",
       "      <td>0</td>\n",
       "      <td>1</td>\n",
       "      <td>0</td>\n",
       "      <td>0</td>\n",
       "      <td>0</td>\n",
       "      <td>0</td>\n",
       "      <td>0</td>\n",
       "      <td>0</td>\n",
       "      <td>0.133</td>\n",
       "    </tr>\n",
       "    <tr>\n",
       "      <th>3</th>\n",
       "      <td>3.7</td>\n",
       "      <td>0.005228</td>\n",
       "      <td>0.050000</td>\n",
       "      <td>1</td>\n",
       "      <td>0</td>\n",
       "      <td>1</td>\n",
       "      <td>0</td>\n",
       "      <td>1</td>\n",
       "      <td>0</td>\n",
       "      <td>0</td>\n",
       "      <td>0</td>\n",
       "      <td>0</td>\n",
       "      <td>0</td>\n",
       "      <td>0</td>\n",
       "      <td>0.160</td>\n",
       "    </tr>\n",
       "    <tr>\n",
       "      <th>4</th>\n",
       "      <td>3.8</td>\n",
       "      <td>0.009862</td>\n",
       "      <td>0.100000</td>\n",
       "      <td>1</td>\n",
       "      <td>0</td>\n",
       "      <td>1</td>\n",
       "      <td>0</td>\n",
       "      <td>1</td>\n",
       "      <td>0</td>\n",
       "      <td>0</td>\n",
       "      <td>0</td>\n",
       "      <td>0</td>\n",
       "      <td>0</td>\n",
       "      <td>0</td>\n",
       "      <td>0.213</td>\n",
       "    </tr>\n",
       "  </tbody>\n",
       "</table>\n",
       "</div>"
      ],
      "text/plain": [
       "   rate     votes  approx_cost(for two people)  online_order_No  \\\n",
       "0   4.1  0.046043                     0.133333                0   \n",
       "1   4.1  0.046756                     0.133333                0   \n",
       "2   3.8  0.054539                     0.133333                0   \n",
       "3   3.7  0.005228                     0.050000                1   \n",
       "4   3.8  0.009862                     0.100000                1   \n",
       "\n",
       "   online_order_Yes  book_table_No  book_table_Yes  listed_in(type)_Buffet  \\\n",
       "0                 1              0               1                       1   \n",
       "1                 1              1               0                       1   \n",
       "2                 1              1               0                       1   \n",
       "3                 0              1               0                       1   \n",
       "4                 0              1               0                       1   \n",
       "\n",
       "   listed_in(type)_Cafes  listed_in(type)_Delivery  listed_in(type)_Desserts  \\\n",
       "0                      0                         0                         0   \n",
       "1                      0                         0                         0   \n",
       "2                      0                         0                         0   \n",
       "3                      0                         0                         0   \n",
       "4                      0                         0                         0   \n",
       "\n",
       "   listed_in(type)_Dine-out  listed_in(type)_Drinks & nightlife  \\\n",
       "0                         0                                   0   \n",
       "1                         0                                   0   \n",
       "2                         0                                   0   \n",
       "3                         0                                   0   \n",
       "4                         0                                   0   \n",
       "\n",
       "   listed_in(type)_Pubs and bars  sentiment  \n",
       "0                              0      0.258  \n",
       "1                              0      0.201  \n",
       "2                              0      0.133  \n",
       "3                              0      0.160  \n",
       "4                              0      0.213  "
      ]
     },
     "execution_count": 49,
     "metadata": {},
     "output_type": "execute_result"
    }
   ],
   "source": [
    "df2.head()"
   ]
  },
  {
   "cell_type": "markdown",
   "id": "f38ea95b",
   "metadata": {
    "papermill": {
     "duration": 0.025536,
     "end_time": "2023-02-15T15:04:20.219810",
     "exception": false,
     "start_time": "2023-02-15T15:04:20.194274",
     "status": "completed"
    },
    "tags": []
   },
   "source": [
    "We'll now train a new model using this new data as well. First we assign our new X and Y values into X3 and Y3."
   ]
  },
  {
   "cell_type": "code",
   "execution_count": 50,
   "id": "4da04669",
   "metadata": {
    "execution": {
     "iopub.execute_input": "2023-02-15T15:04:20.276647Z",
     "iopub.status.busy": "2023-02-15T15:04:20.276306Z",
     "iopub.status.idle": "2023-02-15T15:04:20.290553Z",
     "shell.execute_reply": "2023-02-15T15:04:20.289119Z"
    },
    "papermill": {
     "duration": 0.04648,
     "end_time": "2023-02-15T15:04:20.292512",
     "exception": false,
     "start_time": "2023-02-15T15:04:20.246032",
     "status": "completed"
    },
    "tags": []
   },
   "outputs": [
    {
     "name": "stdout",
     "output_type": "stream",
     "text": [
      "0        4.1\n",
      "1        4.1\n",
      "2        3.8\n",
      "3        3.7\n",
      "4        3.8\n",
      "        ... \n",
      "23041    3.8\n",
      "23042    3.9\n",
      "23043    2.8\n",
      "23044    2.5\n",
      "23045    4.3\n",
      "Name: rate, Length: 23046, dtype: object\n"
     ]
    }
   ],
   "source": [
    "X3 = df2.drop(\"rate\", axis=1) #taking the whole df2 without ratings (so all indpt variables)\n",
    "X3 = X3.values #the variable X contains a df so here we convert it to an array\n",
    "#this is because learning algorithms tend to work with arrays and not dfs.\n",
    "\n",
    "Y3 = df2[\"rate\"] #taking our dependent variable.\n",
    "print(Y)"
   ]
  },
  {
   "cell_type": "markdown",
   "id": "fbdb1fc0",
   "metadata": {
    "papermill": {
     "duration": 0.025465,
     "end_time": "2023-02-15T15:04:20.344119",
     "exception": false,
     "start_time": "2023-02-15T15:04:20.318654",
     "status": "completed"
    },
    "tags": []
   },
   "source": [
    "Next we split these into training and test sets:"
   ]
  },
  {
   "cell_type": "code",
   "execution_count": 51,
   "id": "758eb6da",
   "metadata": {
    "execution": {
     "iopub.execute_input": "2023-02-15T15:04:20.401745Z",
     "iopub.status.busy": "2023-02-15T15:04:20.401146Z",
     "iopub.status.idle": "2023-02-15T15:04:20.413912Z",
     "shell.execute_reply": "2023-02-15T15:04:20.412553Z"
    },
    "papermill": {
     "duration": 0.045349,
     "end_time": "2023-02-15T15:04:20.416334",
     "exception": false,
     "start_time": "2023-02-15T15:04:20.370985",
     "status": "completed"
    },
    "tags": []
   },
   "outputs": [],
   "source": [
    "X3_train,X3_test, Y3_train, Y3_test = train_test_split(X3, Y3, test_size = 0.3, random_state = 0)"
   ]
  },
  {
   "cell_type": "markdown",
   "id": "c1c9fdc4",
   "metadata": {
    "papermill": {
     "duration": 0.02877,
     "end_time": "2023-02-15T15:04:20.471592",
     "exception": false,
     "start_time": "2023-02-15T15:04:20.442822",
     "status": "completed"
    },
    "tags": []
   },
   "source": [
    "Here we train our model3  with the data and print the MSE. The MSE is even lower than in our first tests!"
   ]
  },
  {
   "cell_type": "code",
   "execution_count": 52,
   "id": "6fe9fed7",
   "metadata": {
    "execution": {
     "iopub.execute_input": "2023-02-15T15:04:20.530551Z",
     "iopub.status.busy": "2023-02-15T15:04:20.530185Z",
     "iopub.status.idle": "2023-02-15T15:04:25.213157Z",
     "shell.execute_reply": "2023-02-15T15:04:25.211800Z"
    },
    "papermill": {
     "duration": 4.714596,
     "end_time": "2023-02-15T15:04:25.215347",
     "exception": false,
     "start_time": "2023-02-15T15:04:20.500751",
     "status": "completed"
    },
    "tags": []
   },
   "outputs": [
    {
     "name": "stdout",
     "output_type": "stream",
     "text": [
      "MSE: 0.04150827325151045\n"
     ]
    }
   ],
   "source": [
    "model3 = RandomForestRegressor(n_estimators=100)\n",
    "\n",
    "# Fit the model to the training data\n",
    "model3.fit(X3_train, Y3_train)\n",
    "\n",
    "# Use the model to make predictions on the test data\n",
    "Y3_pred = model3.predict(X3_test)\n",
    "\n",
    "# Evaluate the model using mean squared error (MSE)\n",
    "from sklearn.metrics import mean_squared_error\n",
    "print(\"MSE:\", mean_squared_error(Y3_test, Y3_pred))"
   ]
  },
  {
   "cell_type": "markdown",
   "id": "efe9d8bd",
   "metadata": {
    "papermill": {
     "duration": 0.029057,
     "end_time": "2023-02-15T15:04:25.275055",
     "exception": false,
     "start_time": "2023-02-15T15:04:25.245998",
     "status": "completed"
    },
    "tags": []
   },
   "source": [
    "Acquiring and plotting the importances shows that our new variable \"sentiment\" has great significance - even more so than the approximate cost which previously was the second most significant variable."
   ]
  },
  {
   "cell_type": "code",
   "execution_count": 53,
   "id": "a422b0b0",
   "metadata": {
    "execution": {
     "iopub.execute_input": "2023-02-15T15:04:25.330558Z",
     "iopub.status.busy": "2023-02-15T15:04:25.330225Z",
     "iopub.status.idle": "2023-02-15T15:04:25.558572Z",
     "shell.execute_reply": "2023-02-15T15:04:25.556775Z"
    },
    "papermill": {
     "duration": 0.25887,
     "end_time": "2023-02-15T15:04:25.560905",
     "exception": false,
     "start_time": "2023-02-15T15:04:25.302035",
     "status": "completed"
    },
    "tags": []
   },
   "outputs": [
    {
     "data": {
      "text/plain": [
       "Text(0.5, 1.0, 'Importance of X variables')"
      ]
     },
     "execution_count": 53,
     "metadata": {},
     "output_type": "execute_result"
    },
    {
     "data": {
      "image/png": "[encoded data removed]",
      "text/plain": [
       "<Figure size 432x288 with 1 Axes>"
      ]
     },
     "metadata": {
      "needs_background": "light"
     },
     "output_type": "display_data"
    }
   ],
   "source": [
    "importances3 = model3.feature_importances_\n",
    "plt.bar(df2.drop(\"rate\", axis=1).columns, importances3)\n",
    "plt.xticks(rotation=80)\n",
    "plt.xlabel(\"Independent variables\")\n",
    "plt.ylabel(\"Importance\")\n",
    "plt.title(\"Importance of X variables\")"
   ]
  },
  {
   "cell_type": "markdown",
   "id": "03700ecb",
   "metadata": {
    "papermill": {
     "duration": 0.027327,
     "end_time": "2023-02-15T15:04:25.616407",
     "exception": false,
     "start_time": "2023-02-15T15:04:25.589080",
     "status": "completed"
    },
    "tags": []
   },
   "source": [
    "The figure above is a great result. As expected, the sentiments are of great significance to the ratings of a restaurant! Whether the sentiment is very high or very low, it is a highly relevant indicator for restaurant ratings."
   ]
  },
  {
   "cell_type": "markdown",
   "id": "e0cf3e65",
   "metadata": {
    "papermill": {
     "duration": 0.02803,
     "end_time": "2023-02-15T15:04:25.672587",
     "exception": false,
     "start_time": "2023-02-15T15:04:25.644557",
     "status": "completed"
    },
    "tags": []
   },
   "source": [
    "Below we find the regressor score for our new model, which turns out to be much higher than for our previous two models at 76.5%! This means that the inclusion of sentiment is a powerful tool in predicting restaurant ratings."
   ]
  },
  {
   "cell_type": "code",
   "execution_count": 54,
   "id": "f3feddb0",
   "metadata": {
    "execution": {
     "iopub.execute_input": "2023-02-15T15:04:25.729663Z",
     "iopub.status.busy": "2023-02-15T15:04:25.729174Z",
     "iopub.status.idle": "2023-02-15T15:04:25.899552Z",
     "shell.execute_reply": "2023-02-15T15:04:25.897803Z"
    },
    "papermill": {
     "duration": 0.202164,
     "end_time": "2023-02-15T15:04:25.902346",
     "exception": false,
     "start_time": "2023-02-15T15:04:25.700182",
     "status": "completed"
    },
    "tags": []
   },
   "outputs": [
    {
     "name": "stdout",
     "output_type": "stream",
     "text": [
      "0.7684932734187653\n"
     ]
    }
   ],
   "source": [
    "regressor_score3 = model3.score(X3_test,Y3_test)\n",
    "print(regressor_score3)"
   ]
  },
  {
   "cell_type": "markdown",
   "id": "b54dc07b",
   "metadata": {
    "papermill": {
     "duration": 0.028296,
     "end_time": "2023-02-15T15:04:25.958362",
     "exception": false,
     "start_time": "2023-02-15T15:04:25.930066",
     "status": "completed"
    },
    "tags": []
   },
   "source": [
    "I hope you've enjoyed this notebook! We could analyze this data further, of course. I could have implemented different learning models or tried to include some of the data that we excluded from our dataset."
   ]
  }
 ],
 "metadata": {
  "kernelspec": {
   "display_name": "Python 3",
   "language": "python",
   "name": "python3"
  },
  "language_info": {
   "codemirror_mode": {
    "name": "ipython",
    "version": 3
   },
   "file_extension": ".py",
   "mimetype": "text/x-python",
   "name": "python",
   "nbconvert_exporter": "python",
   "pygments_lexer": "ipython3",
   "version": "3.7.12"
  },
  "papermill": {
   "default_parameters": {},
   "duration": 2447.54365,
   "end_time": "2023-02-15T15:04:27.318767",
   "environment_variables": {},
   "exception": null,
   "input_path": "__notebook__.ipynb",
   "output_path": "__notebook__.ipynb",
   "parameters": {},
   "start_time": "2023-02-15T14:23:39.775117",
   "version": "2.3.4"
  }
 },
 "nbformat": 4,
 "nbformat_minor": 5
}
